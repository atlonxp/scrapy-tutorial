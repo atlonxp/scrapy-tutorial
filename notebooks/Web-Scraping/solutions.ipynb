{
 "cells": [
  {
   "cell_type": "code",
   "execution_count": 1,
   "metadata": {},
   "outputs": [],
   "source": [
    "import requests\n",
    "import pandas as pd\n",
    "from bs4 import BeautifulSoup\n",
    "import matplotlib.pyplot as plt\n",
    "%matplotlib inline"
   ]
  },
  {
   "cell_type": "code",
   "execution_count": 2,
   "metadata": {},
   "outputs": [
    {
     "name": "stdout",
     "output_type": "stream",
     "text": [
      "Requirement already satisfied: beautifulsoup4 in /home/alex/anaconda3/envs/tutorials/lib/python3.6/site-packages (4.8.1)\n",
      "Requirement already satisfied: pandas in /home/alex/anaconda3/envs/tutorials/lib/python3.6/site-packages (0.25.2)\n",
      "Requirement already satisfied: selenium in /home/alex/anaconda3/envs/tutorials/lib/python3.6/site-packages (3.141.0)\n",
      "Requirement already satisfied: soupsieve>=1.2 in /home/alex/anaconda3/envs/tutorials/lib/python3.6/site-packages (from beautifulsoup4) (1.9.4)\n",
      "Requirement already satisfied: numpy>=1.13.3 in /home/alex/anaconda3/envs/tutorials/lib/python3.6/site-packages (from pandas) (1.17.2)\n",
      "Requirement already satisfied: python-dateutil>=2.6.1 in /home/alex/anaconda3/envs/tutorials/lib/python3.6/site-packages (from pandas) (2.8.0)\n",
      "Requirement already satisfied: pytz>=2017.2 in /home/alex/anaconda3/envs/tutorials/lib/python3.6/site-packages (from pandas) (2019.3)\n",
      "Requirement already satisfied: urllib3 in /home/alex/anaconda3/envs/tutorials/lib/python3.6/site-packages (from selenium) (1.25.6)\n",
      "Requirement already satisfied: six>=1.5 in /home/alex/anaconda3/envs/tutorials/lib/python3.6/site-packages (from python-dateutil>=2.6.1->pandas) (1.12.0)\n"
     ]
    }
   ],
   "source": [
    "!pip install beautifulsoup4 pandas selenium"
   ]
  },
  {
   "cell_type": "markdown",
   "metadata": {},
   "source": [
    "## Exercise 1: Scrape the main table of UK's Yearly Box Office using BeautifulSoup"
   ]
  },
  {
   "cell_type": "code",
   "execution_count": 3,
   "metadata": {},
   "outputs": [],
   "source": [
    "url = 'https://www.boxofficemojo.com/intl/uk/yearly/'"
   ]
  },
  {
   "cell_type": "code",
   "execution_count": 4,
   "metadata": {},
   "outputs": [],
   "source": [
    "# Access the webpage content\n",
    "r = requests.get(url)"
   ]
  },
  {
   "cell_type": "code",
   "execution_count": 5,
   "metadata": {},
   "outputs": [],
   "source": [
    "# Parse the HTML page\n",
    "soup = BeautifulSoup(r.text, 'html.parser')"
   ]
  },
  {
   "cell_type": "code",
   "execution_count": 6,
   "metadata": {},
   "outputs": [],
   "source": [
    "# Choose the relevant table\n",
    "table = soup.find_all('table')[4]"
   ]
  },
  {
   "cell_type": "code",
   "execution_count": 7,
   "metadata": {},
   "outputs": [],
   "source": [
    "# Parse and store the data of every table row\n",
    "lst = []\n",
    "for row in table.find_all('tr'):\n",
    "    s = pd.Series([data.text for data in row.find_all('td')])\n",
    "    lst.append(s)"
   ]
  },
  {
   "cell_type": "code",
   "execution_count": 8,
   "metadata": {},
   "outputs": [
    {
     "data": {
      "text/html": [
       "<div>\n",
       "<style scoped>\n",
       "    .dataframe tbody tr th:only-of-type {\n",
       "        vertical-align: middle;\n",
       "    }\n",
       "\n",
       "    .dataframe tbody tr th {\n",
       "        vertical-align: top;\n",
       "    }\n",
       "\n",
       "    .dataframe thead th {\n",
       "        text-align: right;\n",
       "    }\n",
       "</style>\n",
       "<table border=\"1\" class=\"dataframe\">\n",
       "  <thead>\n",
       "    <tr style=\"text-align: right;\">\n",
       "      <th></th>\n",
       "      <th>Rank</th>\n",
       "      <th>Movie Title</th>\n",
       "      <th>Distributor</th>\n",
       "      <th>Gross</th>\n",
       "      <th>Release</th>\n",
       "    </tr>\n",
       "  </thead>\n",
       "  <tbody>\n",
       "    <tr>\n",
       "      <th>1</th>\n",
       "      <td>1</td>\n",
       "      <td>Avengers: Endgame</td>\n",
       "      <td>Disney</td>\n",
       "      <td>$114,921,662</td>\n",
       "      <td>4/25</td>\n",
       "    </tr>\n",
       "    <tr>\n",
       "      <th>2</th>\n",
       "      <td>2</td>\n",
       "      <td>The Lion King (2019)</td>\n",
       "      <td>Disney</td>\n",
       "      <td>$92,861,427</td>\n",
       "      <td>7/19</td>\n",
       "    </tr>\n",
       "    <tr>\n",
       "      <th>3</th>\n",
       "      <td>3</td>\n",
       "      <td>Toy Story 4</td>\n",
       "      <td>Disney</td>\n",
       "      <td>$82,549,622</td>\n",
       "      <td>6/21</td>\n",
       "    </tr>\n",
       "    <tr>\n",
       "      <th>4</th>\n",
       "      <td>4</td>\n",
       "      <td>Captain Marvel</td>\n",
       "      <td>Disney</td>\n",
       "      <td>$51,792,440</td>\n",
       "      <td>3/8</td>\n",
       "    </tr>\n",
       "    <tr>\n",
       "      <th>5</th>\n",
       "      <td>5</td>\n",
       "      <td>Aladdin (2019)</td>\n",
       "      <td>Disney</td>\n",
       "      <td>$47,033,578</td>\n",
       "      <td>5/22</td>\n",
       "    </tr>\n",
       "  </tbody>\n",
       "</table>\n",
       "</div>"
      ],
      "text/plain": [
       "0 Rank           Movie Title Distributor         Gross Release\n",
       "1    1     Avengers: Endgame      Disney  $114,921,662    4/25\n",
       "2    2  The Lion King (2019)      Disney   $92,861,427    7/19\n",
       "3    3           Toy Story 4      Disney   $82,549,622    6/21\n",
       "4    4        Captain Marvel      Disney   $51,792,440     3/8\n",
       "5    5        Aladdin (2019)      Disney   $47,033,578    5/22"
      ]
     },
     "execution_count": 8,
     "metadata": {},
     "output_type": "execute_result"
    }
   ],
   "source": [
    "# Concatenate the data in a Pandas DataFrame and place the first row of the DataFrame as header. Use the .head() method to check your DataFrame.\n",
    "data = pd.concat(lst, axis=1).T\n",
    "\n",
    "# Grab the first row for the header\n",
    "new_header = data.iloc[0]\n",
    "\n",
    "# Take the data less the header row\n",
    "data = data[1:]\n",
    "\n",
    "# Set the header row as the df header\n",
    "data.columns = new_header\n",
    "\n",
    "data.head()"
   ]
  },
  {
   "cell_type": "code",
   "execution_count": 9,
   "metadata": {},
   "outputs": [
    {
     "data": {
      "image/png": "[encoded data removed]",
      "text/plain": [
       "<Figure size 432x288 with 1 Axes>"
      ]
     },
     "metadata": {
      "needs_background": "light"
     },
     "output_type": "display_data"
    }
   ],
   "source": [
    "# Q1\n",
    "(data\n",
    " .Distributor\n",
    " .value_counts()\n",
    " .plot.bar(title='Films per distributor')\n",
    ")\n",
    "plt.show()"
   ]
  },
  {
   "cell_type": "code",
   "execution_count": 10,
   "metadata": {},
   "outputs": [
    {
     "data": {
      "image/png": "[encoded data removed]",
      "text/plain": [
       "<Figure size 432x288 with 1 Axes>"
      ]
     },
     "metadata": {
      "needs_background": "light"
     },
     "output_type": "display_data"
    }
   ],
   "source": [
    "# Q2\n",
    "\n",
    "# Remove the £ symbol and transform strings to integers\n",
    "data['Gross'] = data['Gross'].apply(lambda x: int(x[1:].replace(',', '')))\n",
    "\n",
    "# Group the data by Distributor and add the Gross value of their movies\n",
    "(data\n",
    " .groupby('Distributor')\n",
    " ['Gross'].sum()\n",
    " .sort_values(ascending=False)\n",
    " .plot.bar(title='Gross earning by distributor')\n",
    ")\n",
    "\n",
    "plt.show()"
   ]
  },
  {
   "cell_type": "markdown",
   "metadata": {},
   "source": [
    "## Exercise 2: Use Selenium to scrape Box Office Mojo's top #100 for every year between 2002 and 2019."
   ]
  },
  {
   "cell_type": "code",
   "execution_count": 11,
   "metadata": {},
   "outputs": [],
   "source": [
    "import selenium.webdriver\n",
    "import sys\n",
    "IN_COLAB = 'google.colab' in sys.modules\n",
    "\n",
    "if not IN_COLAB:  # WHEN USING THE NOTEBOOK LOCALLY (INSTALL SELENIUM FIRST)\n",
    "    # You may need to pass `executable_path` \n",
    "    # See: https://github.com/SeleniumHQ/selenium/wiki/ChromeDriver\n",
    "    driver = selenium.webdriver.Chrome()\n",
    "else:  # WHEN USING THE NOTEBOOK ON COLAB\n",
    "    # install chromium, its driver, and selenium\n",
    "    !apt update\n",
    "    !apt install chromium-chromedriver\n",
    "    !pip install selenium\n",
    "    # set options to be headless\n",
    "    options = selenium.webdriver.ChromeOptions()\n",
    "    options.add_argument('--headless')\n",
    "    options.add_argument('--no-sandbox')\n",
    "    options.add_argument('--disable-dev-shm-usage')\n",
    "    # open it, go to a website, and get results\n",
    "    driver = selenium.webdriver.Chrome('chromedriver',options=options)"
   ]
  },
  {
   "cell_type": "code",
   "execution_count": 12,
   "metadata": {},
   "outputs": [],
   "source": [
    "def html2df(source, q):\n",
    "    \"\"\"A wrapper of the scraping pipeline we used before.\"\"\"\n",
    "    # Parse the HTML page\n",
    "    soup = BeautifulSoup(source, 'html.parser')\n",
    "\n",
    "    # Choose the relevant table\n",
    "    table = soup.find_all('table')[4]\n",
    "\n",
    "    # Parse and store the data of every table row\n",
    "    lst = []\n",
    "    for row in table.find_all('tr'):\n",
    "        s = pd.Series([data.text for data in row.find_all('td')])\n",
    "        lst.append(s)\n",
    "\n",
    "    # Concatenate the data in a Pandas DataFrame and place the first row of the DataFrame as header.\n",
    "    data = pd.concat(lst, axis=1).T\n",
    "\n",
    "    # Grab the first row for the header\n",
    "    new_header = data.iloc[0]\n",
    "\n",
    "    # Take the data less the header row\n",
    "    data = data[1:]\n",
    "\n",
    "    # Set the header row as the df header\n",
    "    data.columns = new_header\n",
    "    \n",
    "    # Add a new column tagging the page we scraped\n",
    "    data['page'] = q \n",
    "    \n",
    "    return data"
   ]
  },
  {
   "cell_type": "code",
   "execution_count": 13,
   "metadata": {},
   "outputs": [],
   "source": [
    "url = 'https://www.boxofficemojo.com/intl/uk/yearly/'"
   ]
  },
  {
   "cell_type": "code",
   "execution_count": 14,
   "metadata": {},
   "outputs": [],
   "source": [
    "# URL to use in Selenium\n",
    "driver.get(url)\n",
    "\n",
    "lst = []\n",
    "# Loop over the years.\n",
    "for i in range(2001, 2019):\n",
    "    year = str(i + 1)\n",
    "    # Locate Hyperlinks by partial link text\n",
    "    elem = driver.find_element_by_partial_link_text(year)\n",
    "    # Click on the next page\n",
    "    elem.click()\n",
    "    # Store the Pandas DataFrame with the scraped content in a list\n",
    "    lst.append(html2df(driver.page_source, year))\n",
    "\n",
    "# Concatenate all Pandas DataFrames\n",
    "annual_top_100 = pd.concat(lst, sort=False)"
   ]
  },
  {
   "cell_type": "code",
   "execution_count": 15,
   "metadata": {},
   "outputs": [
    {
     "data": {
      "text/html": [
       "<div>\n",
       "<style scoped>\n",
       "    .dataframe tbody tr th:only-of-type {\n",
       "        vertical-align: middle;\n",
       "    }\n",
       "\n",
       "    .dataframe tbody tr th {\n",
       "        vertical-align: top;\n",
       "    }\n",
       "\n",
       "    .dataframe thead th {\n",
       "        text-align: right;\n",
       "    }\n",
       "</style>\n",
       "<table border=\"1\" class=\"dataframe\">\n",
       "  <thead>\n",
       "    <tr style=\"text-align: right;\">\n",
       "      <th></th>\n",
       "      <th>Rank</th>\n",
       "      <th>Movie Title</th>\n",
       "      <th>Gross</th>\n",
       "      <th>Release</th>\n",
       "      <th>page</th>\n",
       "      <th>Distributor</th>\n",
       "    </tr>\n",
       "  </thead>\n",
       "  <tbody>\n",
       "    <tr>\n",
       "      <th>41</th>\n",
       "      <td>41</td>\n",
       "      <td>The Day the Earth Stood Still (2008)</td>\n",
       "      <td>$10,901,777</td>\n",
       "      <td>12/12</td>\n",
       "      <td>2008</td>\n",
       "      <td>Fox</td>\n",
       "    </tr>\n",
       "    <tr>\n",
       "      <th>23</th>\n",
       "      <td>23</td>\n",
       "      <td>Fast and Furious</td>\n",
       "      <td>$20,546,785</td>\n",
       "      <td>4/10</td>\n",
       "      <td>2009</td>\n",
       "      <td>UPI</td>\n",
       "    </tr>\n",
       "    <tr>\n",
       "      <th>45</th>\n",
       "      <td>45</td>\n",
       "      <td>Insidious</td>\n",
       "      <td>$11,545,946</td>\n",
       "      <td>4/29</td>\n",
       "      <td>2011</td>\n",
       "      <td>Momentum</td>\n",
       "    </tr>\n",
       "    <tr>\n",
       "      <th>98</th>\n",
       "      <td>98</td>\n",
       "      <td>Get Rich or Die Tryin'</td>\n",
       "      <td>$3,699,933</td>\n",
       "      <td>1/20</td>\n",
       "      <td>2006</td>\n",
       "      <td>UIP</td>\n",
       "    </tr>\n",
       "    <tr>\n",
       "      <th>15</th>\n",
       "      <td>15</td>\n",
       "      <td>The Girl on the Train (2016)</td>\n",
       "      <td>$29,494,721</td>\n",
       "      <td>10/5</td>\n",
       "      <td>2016</td>\n",
       "      <td>E1</td>\n",
       "    </tr>\n",
       "    <tr>\n",
       "      <th>83</th>\n",
       "      <td>83</td>\n",
       "      <td>Robin Hood (2018)</td>\n",
       "      <td>$3,658,263</td>\n",
       "      <td>11/21</td>\n",
       "      <td>2018</td>\n",
       "      <td>Lions Gate</td>\n",
       "    </tr>\n",
       "    <tr>\n",
       "      <th>85</th>\n",
       "      <td>85</td>\n",
       "      <td>The Pact</td>\n",
       "      <td>$4,031,952</td>\n",
       "      <td>6/8</td>\n",
       "      <td>2012</td>\n",
       "      <td>n/a</td>\n",
       "    </tr>\n",
       "    <tr>\n",
       "      <th>49</th>\n",
       "      <td>49</td>\n",
       "      <td>BlacKkKlansman</td>\n",
       "      <td>$8,325,139</td>\n",
       "      <td>8/24</td>\n",
       "      <td>2018</td>\n",
       "      <td>UPI</td>\n",
       "    </tr>\n",
       "    <tr>\n",
       "      <th>15</th>\n",
       "      <td>15</td>\n",
       "      <td>The Holiday</td>\n",
       "      <td>$23,942,753</td>\n",
       "      <td>12/8</td>\n",
       "      <td>2006</td>\n",
       "      <td>UIP</td>\n",
       "    </tr>\n",
       "    <tr>\n",
       "      <th>18</th>\n",
       "      <td>18</td>\n",
       "      <td>Moana</td>\n",
       "      <td>$25,388,662</td>\n",
       "      <td>12/2</td>\n",
       "      <td>2016</td>\n",
       "      <td>Disney</td>\n",
       "    </tr>\n",
       "  </tbody>\n",
       "</table>\n",
       "</div>"
      ],
      "text/plain": [
       "   Rank                           Movie Title        Gross Release  page  \\\n",
       "41   41  The Day the Earth Stood Still (2008)  $10,901,777   12/12  2008   \n",
       "23   23                      Fast and Furious  $20,546,785    4/10  2009   \n",
       "45   45                             Insidious  $11,545,946    4/29  2011   \n",
       "98   98                Get Rich or Die Tryin'   $3,699,933    1/20  2006   \n",
       "15   15          The Girl on the Train (2016)  $29,494,721    10/5  2016   \n",
       "83   83                     Robin Hood (2018)   $3,658,263   11/21  2018   \n",
       "85   85                              The Pact   $4,031,952     6/8  2012   \n",
       "49   49                        BlacKkKlansman   $8,325,139    8/24  2018   \n",
       "15   15                           The Holiday  $23,942,753    12/8  2006   \n",
       "18   18                                 Moana  $25,388,662    12/2  2016   \n",
       "\n",
       "   Distributor  \n",
       "41         Fox  \n",
       "23         UPI  \n",
       "45    Momentum  \n",
       "98         UIP  \n",
       "15          E1  \n",
       "83  Lions Gate  \n",
       "85         n/a  \n",
       "49         UPI  \n",
       "15         UIP  \n",
       "18      Disney  "
      ]
     },
     "execution_count": 15,
     "metadata": {},
     "output_type": "execute_result"
    }
   ],
   "source": [
    "annual_top_100.sample(10)"
   ]
  },
  {
   "cell_type": "code",
   "execution_count": 16,
   "metadata": {},
   "outputs": [
    {
     "name": "stdout",
     "output_type": "stream",
     "text": [
      "% OF MISSING VALUES PER COLUMN\n",
      "Rank            0.000000\n",
      "Movie Title     0.000000\n",
      "Gross           0.000000\n",
      "Release         0.000000\n",
      "page            0.000000\n",
      "Distributor    11.111111\n",
      "dtype: float64\n"
     ]
    }
   ],
   "source": [
    "print(f'% OF MISSING VALUES PER COLUMN\\n{(annual_top_100.isnull().sum() / annual_top_100.shape[0]) * 100}')"
   ]
  },
  {
   "cell_type": "code",
   "execution_count": 17,
   "metadata": {},
   "outputs": [
    {
     "name": "stdout",
     "output_type": "stream",
     "text": [
      "(MOVIES, COLUMNS) -> (1800, 6)\n"
     ]
    }
   ],
   "source": [
    "print(f'(MOVIES, COLUMNS) -> {annual_top_100.shape}')"
   ]
  }
 ],
 "metadata": {
  "hide_input": false,
  "kernelspec": {
   "display_name": "Python 3",
   "language": "python",
   "name": "python3"
  },
  "language_info": {
   "codemirror_mode": {
    "name": "ipython",
    "version": 3
   },
   "file_extension": ".py",
   "mimetype": "text/x-python",
   "name": "python",
   "nbconvert_exporter": "python",
   "pygments_lexer": "ipython3",
   "version": "3.6.5"
  },
  "toc": {
   "base_numbering": 1,
   "nav_menu": {},
   "number_sections": true,
   "sideBar": true,
   "skip_h1_title": false,
   "title_cell": "Table of Contents",
   "title_sidebar": "Contents",
   "toc_cell": false,
   "toc_position": {},
   "toc_section_display": true,
   "toc_window_display": false
  },
  "varInspector": {
   "cols": {
    "lenName": 16,
    "lenType": 16,
    "lenVar": 40
   },
   "kernels_config": {
    "python": {
     "delete_cmd_postfix": "",
     "delete_cmd_prefix": "del ",
     "library": "var_list.py",
     "varRefreshCmd": "print(var_dic_list())"
    },
    "r": {
     "delete_cmd_postfix": ") ",
     "delete_cmd_prefix": "rm(",
     "library": "var_list.r",
     "varRefreshCmd": "cat(var_dic_list()) "
    }
   },
   "types_to_exclude": [
    "module",
    "function",
    "builtin_function_or_method",
    "instance",
    "_Feature"
   ],
   "window_display": false
  }
 },
 "nbformat": 4,
 "nbformat_minor": 4
}

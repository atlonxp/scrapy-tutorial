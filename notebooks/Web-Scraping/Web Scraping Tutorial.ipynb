{
 "cells": [
  {
   "cell_type": "code",
   "execution_count": 1,
   "metadata": {},
   "outputs": [
    {
     "name": "stdout",
     "output_type": "stream",
     "text": [
      "Requirement already satisfied: selenium in /home/alex/anaconda3/envs/tutorials/lib/python3.6/site-packages (3.141.0)\n",
      "Requirement already satisfied: beautifulsoup4 in /home/alex/anaconda3/envs/tutorials/lib/python3.6/site-packages (4.8.1)\n",
      "Requirement already satisfied: pandas in /home/alex/anaconda3/envs/tutorials/lib/python3.6/site-packages (0.25.2)\n",
      "Requirement already satisfied: requests in /home/alex/anaconda3/envs/tutorials/lib/python3.6/site-packages (2.22.0)\n",
      "Requirement already satisfied: urllib3 in /home/alex/anaconda3/envs/tutorials/lib/python3.6/site-packages (from selenium) (1.25.6)\n",
      "Requirement already satisfied: soupsieve>=1.2 in /home/alex/anaconda3/envs/tutorials/lib/python3.6/site-packages (from beautifulsoup4) (1.9.4)\n",
      "Requirement already satisfied: numpy>=1.13.3 in /home/alex/anaconda3/envs/tutorials/lib/python3.6/site-packages (from pandas) (1.17.2)\n",
      "Requirement already satisfied: python-dateutil>=2.6.1 in /home/alex/anaconda3/envs/tutorials/lib/python3.6/site-packages (from pandas) (2.8.0)\n",
      "Requirement already satisfied: pytz>=2017.2 in /home/alex/anaconda3/envs/tutorials/lib/python3.6/site-packages (from pandas) (2019.3)\n",
      "Requirement already satisfied: chardet<3.1.0,>=3.0.2 in /home/alex/anaconda3/envs/tutorials/lib/python3.6/site-packages (from requests) (3.0.4)\n",
      "Requirement already satisfied: idna<2.9,>=2.5 in /home/alex/anaconda3/envs/tutorials/lib/python3.6/site-packages (from requests) (2.8)\n",
      "Requirement already satisfied: certifi>=2017.4.17 in /home/alex/anaconda3/envs/tutorials/lib/python3.6/site-packages (from requests) (2019.9.11)\n",
      "Requirement already satisfied: six>=1.5 in /home/alex/anaconda3/envs/tutorials/lib/python3.6/site-packages (from python-dateutil>=2.6.1->pandas) (1.12.0)\n"
     ]
    }
   ],
   "source": [
    "!pip install selenium beautifulsoup4 pandas requests"
   ]
  },
  {
   "cell_type": "markdown",
   "metadata": {},
   "source": [
    "# Introduction to web scraping\n",
    "\n",
    "## Structure\n",
    "1. HTML pages\n",
    "2. Chrome DevTools\n",
    "3. Web scraping packages\n",
    "    * BeautifulSoup\n",
    "        * Exercise\n",
    "    * Selenium\n",
    "        * Exercise\n",
    "4. Ethical considerations of web scraping\n",
    "\n",
    "## What you will be able to do after the tutorial\n",
    "* Inspect an HTML page and identify which parts you want to scrape.\n",
    "* Scrape web pages with `requests` and `BeautifulSoup`.\n",
    "* Navigate Javascript elements with `Selenium`\n",
    "* Judge when web scraping is the most suitable approach and what you should consider before doing so (be a good citizen of the Internet).\n",
    "\n",
    "## HTML page structure\n",
    "\n",
    "**Hypertext Markup Language (HTML)** is the standard markup language for documents designed to be displayed in a web browser. HTML describes the structure of a web page and it can be used with **Cascading Style Sheets (CSS)** and a scripting language such as **JavaScript** to create interactive websites. HTML consists of a series of elements that \"tell\" to the browser how to display the content. Lastly, elements are represented by **tags**.\n",
    "\n",
    "Here are some tags:\n",
    "* `<!DOCTYPE html>` declaration defines this document to be HTML5.  \n",
    "* `<html>` element is the root element of an HTML page.  \n",
    "* `<div>` tag defines a division or a section in an HTML document. It's usually a container for other elements.\n",
    "* `<head>` element contains meta information about the document.  \n",
    "* `<title>` element specifies a title for the document.  \n",
    "* `<body>` element contains the visible page content.  \n",
    "* `<h1>` element defines a large heading.  \n",
    "* `<p>` element defines a paragraph.  \n",
    "* `<a>` element defines a hyperlink.\n",
    "\n",
    "HTML tags normally come in pairs like `<p>` and `</p>`. The first tag in a pair is the opening tag, the second tag is the closing tag. The end tag is written like the start tag, but with a slash inserted before the tag name.\n",
    "\n",
    "<img src=\"figures/tags.png\" width=\"512\">\n",
    "\n",
    "HTML has a tree-like 🌳 🌲 structure thanks to the **Document Object Model (DOM)**, a cross-platform and language-independent interface. Here's how a very simple HTML tree looks like.\n",
    "\n",
    "<img src=\"figures/dom_tree.gif\">\n",
    "\n",
    "### Creating a simple HTML page"
   ]
  },
  {
   "cell_type": "code",
   "execution_count": 2,
   "metadata": {},
   "outputs": [],
   "source": [
    "from IPython.core.display import display, HTML"
   ]
  },
  {
   "cell_type": "code",
   "execution_count": 3,
   "metadata": {},
   "outputs": [
    {
     "data": {
      "text/html": [
       "\n",
       "<!DOCTYPE html>\n",
       "<html lang=\"en\" dir=\"ltr\">\n",
       "<head>\n",
       "  <title>Intro to HTML</title>\n",
       "</head>\n",
       "\n",
       "<body>\n",
       "  <h1>Heading h1</h1>\n",
       "  <h2>Heading h2</h2>\n",
       "  <h3>Heading h3</h3>\n",
       "  <h4>Heading h4</h4>\n",
       "\n",
       "  <p>\n",
       "    That's a text paragraph. You can also <b>bold</b>, <mark>mark</mark>, <ins>underline</ins>, <del>strikethrough</del> and <i>emphasize</i> words.\n",
       "    You can also add links - here's one to <a href=\"https://en.wikipedia.org/wiki/Main_Page\">Wikipedia</a>.\n",
       "  </p>\n",
       "\n",
       "  <p>\n",
       "    This <br> is a paragraph <br> with <br> line breaks\n",
       "  </p>\n",
       "\n",
       "  <p style=\"color:red\">\n",
       "    Add colour to your paragraphs.\n",
       "  </p>\n",
       "\n",
       "  <p>Unordered list:</p>\n",
       "  <ul>\n",
       "    <li>Python</li>\n",
       "    <li>R</li>\n",
       "    <li>Julia</li>\n",
       "  </ul>\n",
       "\n",
       "  <p>Ordered list:</p>\n",
       "  <ol>\n",
       "    <li>Data collection</li>\n",
       "    <li>Exploratory data analysis</li>\n",
       "    <li>Data analysis</li>\n",
       "    <li>Policy recommendations</li>\n",
       "  </ol>\n",
       "  <hr>\n",
       "\n",
       "  <!-- This is a comment -->\n",
       "\n",
       "</body>\n",
       "</html>\n"
      ],
      "text/plain": [
       "<IPython.core.display.HTML object>"
      ]
     },
     "metadata": {},
     "output_type": "display_data"
    }
   ],
   "source": [
    "display(HTML(\"\"\"\n",
    "<!DOCTYPE html>\n",
    "<html lang=\"en\" dir=\"ltr\">\n",
    "<head>\n",
    "  <title>Intro to HTML</title>\n",
    "</head>\n",
    "\n",
    "<body>\n",
    "  <h1>Heading h1</h1>\n",
    "  <h2>Heading h2</h2>\n",
    "  <h3>Heading h3</h3>\n",
    "  <h4>Heading h4</h4>\n",
    "\n",
    "  <p>\n",
    "    That's a text paragraph. You can also <b>bold</b>, <mark>mark</mark>, <ins>underline</ins>, <del>strikethrough</del> and <i>emphasize</i> words.\n",
    "    You can also add links - here's one to <a href=\"https://en.wikipedia.org/wiki/Main_Page\">Wikipedia</a>.\n",
    "  </p>\n",
    "\n",
    "  <p>\n",
    "    This <br> is a paragraph <br> with <br> line breaks\n",
    "  </p>\n",
    "\n",
    "  <p style=\"color:red\">\n",
    "    Add colour to your paragraphs.\n",
    "  </p>\n",
    "\n",
    "  <p>Unordered list:</p>\n",
    "  <ul>\n",
    "    <li>Python</li>\n",
    "    <li>R</li>\n",
    "    <li>Julia</li>\n",
    "  </ul>\n",
    "\n",
    "  <p>Ordered list:</p>\n",
    "  <ol>\n",
    "    <li>Data collection</li>\n",
    "    <li>Exploratory data analysis</li>\n",
    "    <li>Data analysis</li>\n",
    "    <li>Policy recommendations</li>\n",
    "  </ol>\n",
    "  <hr>\n",
    "\n",
    "  <!-- This is a comment -->\n",
    "\n",
    "</body>\n",
    "</html>\n",
    "\"\"\"))"
   ]
  },
  {
   "cell_type": "markdown",
   "metadata": {},
   "source": [
    "## Chrome DevTools\n",
    "\n",
    "[Chrome DevTools](https://developers.google.com/web/tools/chrome-devtools/) is a set of web developer tools built directly into the Google Chrome browser. DevTools can help you view and edit web pages. We will use Chrome's tool to inspect an HTML page and find which elements correspond to the data we might want to scrape.\n",
    "\n",
    "### Short exercise\n",
    "To get some experience with the HTML page structure and Chrome DevTools, we will search and locate elements in [IMDB](https://www.imdb.com/). \n",
    "\n",
    "**Tip**: Hit *Command+Option+C* (Mac) or *Control+Shift+C* (Windows, Linux) to access the elements panel.\n",
    "\n",
    "#### Tasks (we will do them together)\n",
    "* Find the _Sign in_ button\n",
    "* Find the IMDB logo.\n",
    "* Find the box containing the _Now Playing_ table.\n",
    "* Locate one of the photos/videos in the main section of the page.\n",
    "* What is the _heading_ size of the titles in the main section of the page?"
   ]
  },
  {
   "cell_type": "markdown",
   "metadata": {},
   "source": [
    "## Web Scraping with `requests` and `BeautifulSoup`\n",
    "\n",
    "We will use `requests` and `BeautifulSoup` to access and scrape the content of [IMDB's homepage](https://www.imdb.com).\n",
    "\n",
    "### What is `BeautifulSoup`?\n",
    "\n",
    "It is a Python library for pulling data out of HTML and XML files. It provides methods to navigate the document's tree structure that we discussed before and scrape its content.\n",
    "\n",
    "### Our pipeline\n",
    "<img src='figures/scrape-pipeline.png' width=\"1024\">"
   ]
  },
  {
   "cell_type": "code",
   "execution_count": 4,
   "metadata": {},
   "outputs": [],
   "source": [
    "# Imports\n",
    "import requests\n",
    "import numpy as np\n",
    "import pandas as pd\n",
    "from bs4 import BeautifulSoup\n",
    "import matplotlib.pyplot as plt\n",
    "\n",
    "%matplotlib inline"
   ]
  },
  {
   "cell_type": "code",
   "execution_count": 5,
   "metadata": {},
   "outputs": [
    {
     "data": {
      "text/plain": [
       "<title>Ratings and Reviews for New Movies and TV Shows - IMDb</title>"
      ]
     },
     "execution_count": 5,
     "metadata": {},
     "output_type": "execute_result"
    }
   ],
   "source": [
    "# IMDB's homepage\n",
    "imdb_url = 'https://www.imdb.com'\n",
    "\n",
    "# Use requests to retrieve data from a given URL\n",
    "imdb_response = requests.get(imdb_url)\n",
    "\n",
    "# Parse the whole HTML page using BeautifulSoup\n",
    "imdb_soup = BeautifulSoup(imdb_response.text, 'html.parser')\n",
    "\n",
    "# Title of the parsed page\n",
    "imdb_soup.title"
   ]
  },
  {
   "cell_type": "code",
   "execution_count": 6,
   "metadata": {},
   "outputs": [
    {
     "data": {
      "text/plain": [
       "'Ratings and Reviews for New Movies and TV Shows - IMDb'"
      ]
     },
     "execution_count": 6,
     "metadata": {},
     "output_type": "execute_result"
    }
   ],
   "source": [
    "# We can also get it without the HTML tags\n",
    "imdb_soup.title.string"
   ]
  },
  {
   "cell_type": "markdown",
   "metadata": {},
   "source": [
    "### Collect trailers' title and description"
   ]
  },
  {
   "cell_type": "code",
   "execution_count": 7,
   "metadata": {},
   "outputs": [],
   "source": [
    "trailers = imdb_soup.find('div', {'class': 'ab_hero'})"
   ]
  },
  {
   "cell_type": "code",
   "execution_count": 9,
   "metadata": {},
   "outputs": [],
   "source": [
    "# print(trailers.prettify())"
   ]
  },
  {
   "cell_type": "markdown",
   "metadata": {},
   "source": [
    "We will use the `.find_all()` method to search the HTML tree for particular tags and get a `list` with all the relevant objects."
   ]
  },
  {
   "cell_type": "code",
   "execution_count": 10,
   "metadata": {},
   "outputs": [
    {
     "name": "stdout",
     "output_type": "stream",
     "text": [
      "  'Star Wars: Episode IX - The Rise of Skywalker'  : Watch the final trailer for 'Star Wars: Episode IX - The Rise of Skywalker.'\n",
      "\n",
      "  Emperor Palpatine Returns  : On this IMDbrief, we explore the history of Emperor Palpatine and what his return might involve in the final chapter of the Skywalker saga.\n",
      "\n",
      "  “Watchmen\" Comic Book Easter Eggs  : In this IMDbrief, we're taking a look at the Easter eggs and comic-book references in first episode of the new \"Watchmen\" series.\n",
      "\n"
     ]
    }
   ],
   "source": [
    "for title, image in zip(trailers.find_all('div', {'class': 'onoverflow'}),\n",
    "                        trailers.find_all('img', {'class': 'pri_image'})):\n",
    "    print(f\"{title.text}: {image['title']}\")\n",
    "    print()"
   ]
  },
  {
   "cell_type": "markdown",
   "metadata": {},
   "source": [
    "### Collect side bar"
   ]
  },
  {
   "cell_type": "code",
   "execution_count": 11,
   "metadata": {},
   "outputs": [
    {
     "name": "stdout",
     "output_type": "stream",
     "text": [
      " UK Opening This Week\n",
      "  Terminator: Dark Fate   \n",
      "  The Addams Family   \n",
      "  Countdown   \n",
      "  Black and Blue   \n",
      "  The Last Black Man in San Francisco   \n",
      "  The Beach Bum   \n",
      "  Monos   \n",
      "\n",
      " Now Playing (UK Box Office)\n",
      "  Joker  £9.8M \n",
      "  Abominable  £2.1M \n",
      "  Gemini Man  £1.7M \n",
      "  Judy  £1.1M \n",
      "  Downton Abbey  £0.9M \n",
      "\n",
      " UK Coming Soon\n",
      "  Brittany Runs a Marathon   \n",
      "  Doctor Sleep   \n",
      "  Sorry We Missed You   \n",
      "  After the Wedding   \n",
      "\n",
      " Follow Us On Twitter\n",
      "\n",
      " Find Us On Facebook\n",
      "\n",
      " Around The Web\n",
      "\n",
      " Watch the New IMDb Original \"You're Not a Monster\"\n",
      "\n"
     ]
    }
   ],
   "source": [
    "for widget in imdb_soup.find_all('div', {'class': 'aux-content-widget-2'}):\n",
    "    # Check that the widget has a heading\n",
    "    if widget.h3:\n",
    "        # Print the widget's heading along with the movie titles.\n",
    "        print(widget.h3.string)\n",
    "        for title in widget.find_all('div', {'class': 'title'}):\n",
    "            print(title.text)\n",
    "        print()"
   ]
  },
  {
   "cell_type": "markdown",
   "metadata": {},
   "source": [
    "### Collect articles"
   ]
  },
  {
   "cell_type": "code",
   "execution_count": 12,
   "metadata": {},
   "outputs": [
    {
     "name": "stdout",
     "output_type": "stream",
     "text": [
      " This Week on TV: 'Misery' Loves Comedy\n",
      "From an anthology romance series with massive movie stars and the return of \"Castle Rock\" to the end of a comedy era, here's everything we're watching.\n",
      "\n",
      " 50 Stars You Didn't Know Were in Horror Movies\n",
      "Jack Black and Amy Adams both scored early roles in scary movies. See who else started out in horror films. For even more, visit our Guide to Horror ... if you dare.\n",
      "\n",
      " \"Delicious Fun\" Awaits in 'Maleficent: Mistress of Evil'\n",
      "Angelina Jolie, Michelle Pfeiffer, Elle Fanning, and their Maleficent: Mistress of Evil co-stars discuss why the fairy-tale sequel's trio of leading characters are so \"deliciously fun.\"\n",
      "\n",
      " 'The Rise of Skywalker' Cast Talk Ending the Saga\n",
      "The stars and director J.J. Abrams reflect on their characters in Star Wars: The Last Jedi and look ahead to unexpected turns as the saga wraps up in Star Wars: The Rise of Skywalker.\n",
      "\n",
      " Aaron Paul of 'El Camino' and More Photos We Love\n",
      " See more photos we love\n",
      "\n",
      " Born Today\n",
      " See all birthdays\n",
      "\n",
      " Poll: Favorite 'Addams Family' Character Poster\n",
      "Which poster from The Addams Family is your favorite? Discuss here after voting.\n",
      "\n"
     ]
    }
   ],
   "source": [
    "for article in imdb_soup.find_all('div', {'class': 'article'}):\n",
    "    if article.h3:\n",
    "        # Title of the article\n",
    "        print(article.h3.string)\n",
    "        # Text\n",
    "        print(article.p.text)\n",
    "        print()"
   ]
  },
  {
   "cell_type": "markdown",
   "metadata": {},
   "source": [
    "### Find links\n",
    "\n",
    "In many cases, it is useful to collect the links contained in a webpage (for example, you might want to scrape them too). Here is how you can do this."
   ]
  },
  {
   "cell_type": "code",
   "execution_count": 13,
   "metadata": {},
   "outputs": [],
   "source": [
    "# Find all links\n",
    "links = [link.get('href') for link in imdb_soup.find_all('a')]\n",
    "\n",
    "# Add homepage and keep the unique links\n",
    "fixed_links = set([''.join([imdb_url, link]) for link in links if link])"
   ]
  },
  {
   "cell_type": "code",
   "execution_count": 14,
   "metadata": {},
   "outputs": [],
   "source": [
    "# fixed_links"
   ]
  },
  {
   "cell_type": "markdown",
   "metadata": {},
   "source": [
    "## From web data to analysis\n",
    "\n",
    "**[Box Office Mojo](https://www.boxofficemojo.com/)** is a website that tracks box office revenue in a systematic, algorithmic way. The site was founded in 1999 and was bought in 2008 by IMDb.  \n",
    "\n",
    "In this example, we will scrape data for UK's Weekend box office and create some simple plots. This will be our pipeline:\n",
    "\n",
    "<img src='figures/boxofficemojo-pipeline.png' width='1024'>"
   ]
  },
  {
   "cell_type": "code",
   "execution_count": 15,
   "metadata": {},
   "outputs": [],
   "source": [
    "# Box Office Mojo - UK Weekend box office\n",
    "boxofficemojo_url = 'https://www.boxofficemojo.com/intl/uk/?yr=2019&wk=33&currency=local'\n",
    "\n",
    "# Use requests to retrieve data from a given URL\n",
    "bom_response = requests.get(boxofficemojo_url)\n",
    "\n",
    "# Parse the whole HTML page using BeautifulSoup\n",
    "bom_soup = BeautifulSoup(bom_response.text, 'html.parser')"
   ]
  },
  {
   "cell_type": "markdown",
   "metadata": {},
   "source": [
    "Let's inspect the webpage. \n",
    "\n",
    "Our goal is to scrape the main table. An [HTML Table](https://www.w3schools.com/html/html_tables.asp) is defined with the `<table>` tag. \n",
    "\n",
    "Each table row is defined with the `<tr>` tag.\n",
    "\n",
    "A table header is defined with the `<th>` tag. By default, table headings are bold and centered.\n",
    "\n",
    "A table data/cell is defined with the `<td>` tag and they can contain all sorts of HTML elements; text, images, lists, other tables, etc."
   ]
  },
  {
   "cell_type": "code",
   "execution_count": 16,
   "metadata": {},
   "outputs": [
    {
     "name": "stdout",
     "output_type": "stream",
     "text": [
      "NUMBER OF TABLES IN THE PAGE: 7\n"
     ]
    }
   ],
   "source": [
    "# There are 7 tables in the Box Office Mojo page but we are interested in the one with the most data (table 5).\n",
    "print(f\"NUMBER OF TABLES IN THE PAGE: {len(bom_soup.find_all('table'))}\")"
   ]
  },
  {
   "cell_type": "code",
   "execution_count": 17,
   "metadata": {},
   "outputs": [],
   "source": [
    "table = bom_soup.find_all('table')[4]"
   ]
  },
  {
   "cell_type": "markdown",
   "metadata": {},
   "source": [
    "There are various ways to access the content of a **table row**. We could:\n",
    "\n",
    "* Use the `.contents` method to get a `list` with the data of every table cell. Note that the list will contain multiple _newline characters_.\n",
    "* Use the `.text` method to get a `string` with the data of every table cell. Note that the data will be separated by a _newline character_ which is omitted when using `print()`. You can use the `.split(\\n)` method to split the `string` on `\\n`\n",
    "* Use `.find_all('td')` to get a list of all the data in a row."
   ]
  },
  {
   "cell_type": "code",
   "execution_count": 18,
   "metadata": {},
   "outputs": [
    {
     "data": {
      "text/plain": [
       "[<td align=\"center\"><font size=\"2\">1</font></td>,\n",
       " '\\n',\n",
       " <td align=\"center\"><font size=\"2\">N</font></td>,\n",
       " '\\n',\n",
       " <td><font size=\"2\"><a href=\"/movies/default.htm?id=untitledtarantino.htm\"><b>Once Upon a Time in Hollywood</b></a></font></td>,\n",
       " '\\n',\n",
       " <td><font size=\"2\">Sony</font></td>,\n",
       " '\\n',\n",
       " <td align=\"right\"><font size=\"2\"><b>£5,110,082</b></font></td>,\n",
       " '\\n',\n",
       " <td align=\"right\"><font size=\"2\">-</font></td>,\n",
       " '\\n',\n",
       " <td align=\"right\"><font size=\"2\">707</font></td>,\n",
       " '\\n',\n",
       " <td align=\"right\"><font size=\"2\">-</font></td>,\n",
       " '\\n',\n",
       " <td align=\"right\"><font size=\"2\">£7,228</font></td>,\n",
       " '\\n',\n",
       " <td align=\"right\"><font size=\"2\">£7,528,313</font></td>,\n",
       " '\\n',\n",
       " <td align=\"center\"><font size=\"2\">1</font></td>,\n",
       " '\\n']"
      ]
     },
     "execution_count": 18,
     "metadata": {},
     "output_type": "execute_result"
    }
   ],
   "source": [
    "# Using the .contents method\n",
    "table.find_all('tr')[2].contents"
   ]
  },
  {
   "cell_type": "code",
   "execution_count": 19,
   "metadata": {},
   "outputs": [
    {
     "data": {
      "text/plain": [
       "'1\\nN\\nOnce Upon a Time in Hollywood\\nSony\\n£5,110,082\\n-\\n707\\n-\\n£7,228\\n£7,528,313\\n1\\n'"
      ]
     },
     "execution_count": 19,
     "metadata": {},
     "output_type": "execute_result"
    }
   ],
   "source": [
    "# Using .text method\n",
    "table.find_all('tr')[2].text"
   ]
  },
  {
   "cell_type": "code",
   "execution_count": 20,
   "metadata": {},
   "outputs": [
    {
     "name": "stdout",
     "output_type": "stream",
     "text": [
      "1\n",
      "N\n",
      "Once Upon a Time in Hollywood\n",
      "Sony\n",
      "£5,110,082\n",
      "-\n",
      "707\n",
      "-\n",
      "£7,228\n",
      "£7,528,313\n",
      "1\n",
      "\n"
     ]
    }
   ],
   "source": [
    "# Print text \"consumes\" the newline characters\n",
    "print(table.find_all('tr')[2].text)"
   ]
  },
  {
   "cell_type": "code",
   "execution_count": 21,
   "metadata": {},
   "outputs": [
    {
     "data": {
      "text/plain": [
       "['1',\n",
       " 'N',\n",
       " 'Once Upon a Time in Hollywood',\n",
       " 'Sony',\n",
       " '£5,110,082',\n",
       " '-',\n",
       " '707',\n",
       " '-',\n",
       " '£7,228',\n",
       " '£7,528,313',\n",
       " '1',\n",
       " '']"
      ]
     },
     "execution_count": 21,
     "metadata": {},
     "output_type": "execute_result"
    }
   ],
   "source": [
    "# Split string on newline characters\n",
    "table.find_all('tr')[2].text.split('\\n')"
   ]
  },
  {
   "cell_type": "code",
   "execution_count": 22,
   "metadata": {},
   "outputs": [
    {
     "name": "stdout",
     "output_type": "stream",
     "text": [
      "1\n",
      "N\n",
      "Once Upon a Time in Hollywood\n",
      "Sony\n",
      "£5,110,082\n",
      "-\n",
      "707\n",
      "-\n",
      "£7,228\n",
      "£7,528,313\n",
      "1\n"
     ]
    }
   ],
   "source": [
    "# Loop through the cells of a row and print their data\n",
    "for data in table.find_all('tr')[2].find_all('td'):\n",
    "    print(data.text)"
   ]
  },
  {
   "cell_type": "code",
   "execution_count": 23,
   "metadata": {},
   "outputs": [
    {
     "name": "stdout",
     "output_type": "stream",
     "text": [
      "TW\n",
      "LW\n",
      "Movie\n",
      "Studio\n",
      "Weekend Gross\n",
      "Change\n",
      "Theaters\n",
      "Change / Avg.\n",
      "Gross-to-Date\n",
      "Week\n"
     ]
    }
   ],
   "source": [
    "# Table's column names\n",
    "for data in table.find_all('tr')[1].find_all('td'):\n",
    "    print(data.text)"
   ]
  },
  {
   "cell_type": "markdown",
   "metadata": {},
   "source": [
    "We will use the `.find_all('td')` method to get the data from every table row. \n",
    "\n",
    "**Note**: We will not collect the first and last rows in this particular example. The first row contains all of the table data while the last row contains the buttons to other pages."
   ]
  },
  {
   "cell_type": "code",
   "execution_count": 24,
   "metadata": {},
   "outputs": [],
   "source": [
    "# Loop over the table rows, collect the data and store them in a list.\n",
    "lst = []\n",
    "for row in table.find_all('tr')[1:-1]:\n",
    "    s = pd.Series([data.text for data in row.find_all('td')])\n",
    "    lst.append(s)"
   ]
  },
  {
   "cell_type": "code",
   "execution_count": 25,
   "metadata": {},
   "outputs": [],
   "source": [
    "# Concatenate the Pandas Series in a DataFrame\n",
    "data = pd.concat(lst, axis=1).T"
   ]
  },
  {
   "cell_type": "code",
   "execution_count": 26,
   "metadata": {},
   "outputs": [
    {
     "data": {
      "text/html": [
       "<div>\n",
       "<style scoped>\n",
       "    .dataframe tbody tr th:only-of-type {\n",
       "        vertical-align: middle;\n",
       "    }\n",
       "\n",
       "    .dataframe tbody tr th {\n",
       "        vertical-align: top;\n",
       "    }\n",
       "\n",
       "    .dataframe thead th {\n",
       "        text-align: right;\n",
       "    }\n",
       "</style>\n",
       "<table border=\"1\" class=\"dataframe\">\n",
       "  <thead>\n",
       "    <tr style=\"text-align: right;\">\n",
       "      <th></th>\n",
       "      <th>0</th>\n",
       "      <th>1</th>\n",
       "      <th>2</th>\n",
       "      <th>3</th>\n",
       "      <th>4</th>\n",
       "      <th>5</th>\n",
       "      <th>6</th>\n",
       "      <th>7</th>\n",
       "      <th>8</th>\n",
       "      <th>9</th>\n",
       "      <th>10</th>\n",
       "    </tr>\n",
       "  </thead>\n",
       "  <tbody>\n",
       "    <tr>\n",
       "      <th>0</th>\n",
       "      <td>TW</td>\n",
       "      <td>LW</td>\n",
       "      <td>Movie</td>\n",
       "      <td>Studio</td>\n",
       "      <td>Weekend Gross</td>\n",
       "      <td>Change</td>\n",
       "      <td>Theaters</td>\n",
       "      <td>Change / Avg.</td>\n",
       "      <td>Gross-to-Date</td>\n",
       "      <td>Week</td>\n",
       "      <td>NaN</td>\n",
       "    </tr>\n",
       "    <tr>\n",
       "      <th>1</th>\n",
       "      <td>1</td>\n",
       "      <td>N</td>\n",
       "      <td>Once Upon a Time in Hollywood</td>\n",
       "      <td>Sony</td>\n",
       "      <td>£5,110,082</td>\n",
       "      <td>-</td>\n",
       "      <td>707</td>\n",
       "      <td>-</td>\n",
       "      <td>£7,228</td>\n",
       "      <td>£7,528,313</td>\n",
       "      <td>1</td>\n",
       "    </tr>\n",
       "  </tbody>\n",
       "</table>\n",
       "</div>"
      ],
      "text/plain": [
       "    0   1                              2       3              4       5  \\\n",
       "0  TW  LW                          Movie  Studio  Weekend Gross  Change   \n",
       "1   1   N  Once Upon a Time in Hollywood    Sony     £5,110,082       -   \n",
       "\n",
       "          6              7              8           9   10  \n",
       "0  Theaters  Change / Avg.  Gross-to-Date        Week  NaN  \n",
       "1       707              -         £7,228  £7,528,313    1  "
      ]
     },
     "execution_count": 26,
     "metadata": {},
     "output_type": "execute_result"
    }
   ],
   "source": [
    "# The first line contains the header - let's fix that!\n",
    "data.head(2)"
   ]
  },
  {
   "cell_type": "code",
   "execution_count": 27,
   "metadata": {},
   "outputs": [],
   "source": [
    "# grab the first row for the header\n",
    "header = []\n",
    "for col in data.iloc[0, :-1]:\n",
    "    if '/' not in col:\n",
    "        header.append(col)\n",
    "    else:\n",
    "        header.extend([s.replace(' ', '_') for s in col.split('/')])\n",
    "\n",
    "data = data[1:] # take the data less the header row\n",
    "data.columns = header # set the header row as the df header"
   ]
  },
  {
   "cell_type": "code",
   "execution_count": 28,
   "metadata": {},
   "outputs": [],
   "source": [
    "# Replace the n/a string with a Null value.\n",
    "data = data.replace('n/a', np.nan)\n",
    "data = data.replace('-', np.nan)\n",
    "\n",
    "# Remove the £ symbol from the \"Gross\" column and transform strings to integers\n",
    "for col in ['Weekend Gross', 'Gross-to-Date', '_Avg.']:\n",
    "    data[col] = data[col].apply(lambda x: int(x[1:].replace(',', '')))\n",
    "\n",
    "# Transform strings to integers\n",
    "for col in ['TW', 'Theaters', 'Week', 'Change_', '_Avg.']:\n",
    "    data[col] = data[col].pipe(pd.to_numeric, downcast='integer')\n",
    "\n",
    "# Create a new variable showing how much a movie grossed on average on weekly basis\n",
    "data['Week AVG'] = data['Gross-to-Date'].div(data['Week'])\n",
    "\n",
    "# Set the movie title as index\n",
    "data = data.set_index('Movie')"
   ]
  },
  {
   "cell_type": "code",
   "execution_count": 29,
   "metadata": {},
   "outputs": [
    {
     "data": {
      "text/html": [
       "<div>\n",
       "<style scoped>\n",
       "    .dataframe tbody tr th:only-of-type {\n",
       "        vertical-align: middle;\n",
       "    }\n",
       "\n",
       "    .dataframe tbody tr th {\n",
       "        vertical-align: top;\n",
       "    }\n",
       "\n",
       "    .dataframe thead th {\n",
       "        text-align: right;\n",
       "    }\n",
       "</style>\n",
       "<table border=\"1\" class=\"dataframe\">\n",
       "  <thead>\n",
       "    <tr style=\"text-align: right;\">\n",
       "      <th></th>\n",
       "      <th>TW</th>\n",
       "      <th>LW</th>\n",
       "      <th>Studio</th>\n",
       "      <th>Weekend Gross</th>\n",
       "      <th>Change</th>\n",
       "      <th>Theaters</th>\n",
       "      <th>Change_</th>\n",
       "      <th>_Avg.</th>\n",
       "      <th>Gross-to-Date</th>\n",
       "      <th>Week</th>\n",
       "      <th>Week AVG</th>\n",
       "    </tr>\n",
       "    <tr>\n",
       "      <th>Movie</th>\n",
       "      <th></th>\n",
       "      <th></th>\n",
       "      <th></th>\n",
       "      <th></th>\n",
       "      <th></th>\n",
       "      <th></th>\n",
       "      <th></th>\n",
       "      <th></th>\n",
       "      <th></th>\n",
       "      <th></th>\n",
       "      <th></th>\n",
       "    </tr>\n",
       "  </thead>\n",
       "  <tbody>\n",
       "    <tr>\n",
       "      <th>Once Upon a Time in Hollywood</th>\n",
       "      <td>1</td>\n",
       "      <td>N</td>\n",
       "      <td>Sony</td>\n",
       "      <td>5110082</td>\n",
       "      <td>NaN</td>\n",
       "      <td>707.0</td>\n",
       "      <td>NaN</td>\n",
       "      <td>7228</td>\n",
       "      <td>7528313</td>\n",
       "      <td>1</td>\n",
       "      <td>7528313.0</td>\n",
       "    </tr>\n",
       "    <tr>\n",
       "      <th>The Lion King (2019)</th>\n",
       "      <td>2</td>\n",
       "      <td>1</td>\n",
       "      <td>Disney</td>\n",
       "      <td>2486378</td>\n",
       "      <td>-42.6%</td>\n",
       "      <td>NaN</td>\n",
       "      <td>-714.0</td>\n",
       "      <td>0</td>\n",
       "      <td>66846426</td>\n",
       "      <td>5</td>\n",
       "      <td>13369285.2</td>\n",
       "    </tr>\n",
       "  </tbody>\n",
       "</table>\n",
       "</div>"
      ],
      "text/plain": [
       "                               TW LW  Studio  Weekend Gross  Change  Theaters  \\\n",
       "Movie                                                                           \n",
       "Once Upon a Time in Hollywood   1  N    Sony        5110082     NaN     707.0   \n",
       "The Lion King (2019)            2  1  Disney        2486378  -42.6%       NaN   \n",
       "\n",
       "                               Change_  _Avg.  Gross-to-Date  Week    Week AVG  \n",
       "Movie                                                                           \n",
       "Once Upon a Time in Hollywood      NaN   7228        7528313     1   7528313.0  \n",
       "The Lion King (2019)            -714.0      0       66846426     5  13369285.2  "
      ]
     },
     "execution_count": 29,
     "metadata": {},
     "output_type": "execute_result"
    }
   ],
   "source": [
    "data.head(2)"
   ]
  },
  {
   "cell_type": "code",
   "execution_count": 30,
   "metadata": {},
   "outputs": [
    {
     "name": "stdout",
     "output_type": "stream",
     "text": [
      "(MOVIES, COLUMNS) -> (55, 11)\n"
     ]
    }
   ],
   "source": [
    "print(f'(MOVIES, COLUMNS) -> {data.shape}')"
   ]
  },
  {
   "cell_type": "code",
   "execution_count": 31,
   "metadata": {},
   "outputs": [
    {
     "name": "stdout",
     "output_type": "stream",
     "text": [
      "% OF MISSING VALUES PER COLUMN\n",
      "TW                0.000000\n",
      "LW                9.090909\n",
      "Studio            0.000000\n",
      "Weekend Gross     0.000000\n",
      "Change           29.090909\n",
      "Theaters         10.909091\n",
      "Change_          41.818182\n",
      "_Avg.             0.000000\n",
      "Gross-to-Date     0.000000\n",
      "Week              0.000000\n",
      "Week AVG          0.000000\n",
      "dtype: float64\n"
     ]
    }
   ],
   "source": [
    "print(f'% OF MISSING VALUES PER COLUMN\\n{(data.isnull().sum() / data.shape[0]) * 100}')"
   ]
  },
  {
   "cell_type": "code",
   "execution_count": 32,
   "metadata": {},
   "outputs": [
    {
     "data": {
      "text/plain": [
       "<matplotlib.axes._subplots.AxesSubplot at 0x7f085831db70>"
      ]
     },
     "execution_count": 32,
     "metadata": {},
     "output_type": "execute_result"
    },
    {
     "data": {
      "image/png": "[encoded data removed]",
      "text/plain": [
       "<Figure size 864x576 with 1 Axes>"
      ]
     },
     "metadata": {
      "needs_background": "light"
     },
     "output_type": "display_data"
    }
   ],
   "source": [
    "# Use the .value_counts() method to count the number of studios\n",
    "fig, ax = plt.subplots(figsize=(12, 8))\n",
    "(data\n",
    " .Studio\n",
    " .value_counts()\n",
    " .plot.bar(title='Studios with the most movies in the top 55', ax=ax)\n",
    ")"
   ]
  },
  {
   "cell_type": "code",
   "execution_count": 33,
   "metadata": {},
   "outputs": [
    {
     "data": {
      "image/png": "[encoded data removed]",
      "text/plain": [
       "<Figure size 864x576 with 2 Axes>"
      ]
     },
     "metadata": {
      "needs_background": "light"
     },
     "output_type": "display_data"
    }
   ],
   "source": [
    "# Use the .sort_values() method to sort the values of a column\n",
    "fig, (ax1, ax2) = plt.subplots(ncols=2, figsize=(12,8))\n",
    "\n",
    "# ax1\n",
    "(data['Week AVG']\n",
    " .sort_values(ascending=False)\n",
    " .head(25)\n",
    " .plot.bar(title='Weekly Gross earnings', ax=ax1)\n",
    ")\n",
    "# ax2\n",
    "(data['Theaters']\n",
    " .sort_values(ascending=False)\n",
    " .head(25)\n",
    " .plot.bar(title='Number of theaters showing a movie', ax=ax2)\n",
    ")\n",
    "\n",
    "fig.tight_layout()"
   ]
  },
  {
   "cell_type": "markdown",
   "metadata": {
    "heading_collapsed": true
   },
   "source": [
    "## Exercise\n",
    "\n",
    "Scrape the main table of [UK's Yearly Box Office](https://www.boxofficemojo.com/intl/uk/yearly/) and try to answer the following:\n",
    "1. Which producers have the most films in the top 100? \n",
    "2. Can you find the gross earnings by distributor?\n",
    "\n",
    "[Link to the solutions. Don't cheat!](https://colab.research.google.com/github/nestauk/im-tutorials/blob/3-ysi-tutorial/notebooks/Web-Scraping/solutions.ipynb)"
   ]
  },
  {
   "cell_type": "code",
   "execution_count": 34,
   "metadata": {
    "hidden": true
   },
   "outputs": [],
   "source": [
    "# That's the URL you should use\n",
    "url = 'https://www.boxofficemojo.com/intl/uk/yearly/'"
   ]
  },
  {
   "cell_type": "code",
   "execution_count": 35,
   "metadata": {
    "hidden": true
   },
   "outputs": [],
   "source": [
    "# Access the webpage content\n",
    "# write your code here (~1 line)"
   ]
  },
  {
   "cell_type": "code",
   "execution_count": 36,
   "metadata": {
    "hidden": true
   },
   "outputs": [],
   "source": [
    "# Parse the HTML page\n",
    "# write your code here (~1 line)"
   ]
  },
  {
   "cell_type": "code",
   "execution_count": 37,
   "metadata": {
    "hidden": true
   },
   "outputs": [],
   "source": [
    "# Choose the relevant table\n",
    "# write your code here (~1 line)"
   ]
  },
  {
   "cell_type": "code",
   "execution_count": 38,
   "metadata": {
    "hidden": true
   },
   "outputs": [],
   "source": [
    "# Parse and store the data of every table row\n",
    "# write your code here (~4 lines)"
   ]
  },
  {
   "cell_type": "code",
   "execution_count": 39,
   "metadata": {
    "hidden": true
   },
   "outputs": [],
   "source": [
    "# Concatenate the data in a Pandas DataFrame and place the first row of the DataFrame as header. Use the .head() method to check your DataFrame.\n",
    "# write your code here (~5 lines)"
   ]
  },
  {
   "cell_type": "code",
   "execution_count": 40,
   "metadata": {
    "hidden": true
   },
   "outputs": [],
   "source": [
    "# Q1: Count the films per distributor and plot them using a bar chart \n",
    "# write your code here (~1 line)"
   ]
  },
  {
   "cell_type": "code",
   "execution_count": 41,
   "metadata": {
    "hidden": true
   },
   "outputs": [],
   "source": [
    "# Q2: Gross earnings by distributors\n",
    "\n",
    "# Remove the £ symbol from the \"Gross\" column and transform strings to integers\n",
    "# write your code here (~1 line)\n",
    "\n",
    "# Group the data by Distributor and add the Gross value of their movies\n",
    "# write your code here (~1 line)"
   ]
  },
  {
   "cell_type": "markdown",
   "metadata": {
    "heading_collapsed": true
   },
   "source": [
    "## Ethical considerations\n",
    "\n",
    "**You can scrape it, should you though?**\n",
    "\n",
    "A very good summary of practices for [ethical web scraping](https://towardsdatascience.com/ethics-in-web-scraping-b96b18136f01):\n",
    "\n",
    "* If you have a public API that provides the data I’m looking for, I’ll use it and avoid scraping all together.\n",
    "* I will only save the data I absolutely need from your page.\n",
    "* I will respect any content I do keep. I’ll never pass it off as my own.\n",
    "* I will look for ways to return value to you. Maybe I can drive some (real) traffic to your site or credit you in an article or post.\n",
    "* I will respond in a timely fashion to your outreach and work with you towards a resolution.\n",
    "* I will scrape for the purpose of creating new value from the data, not to duplicate it.\n",
    "\n",
    "Some other [important components](http://robertorocha.info/on-the-ethics-of-web-scraping/) of ethical web scraping practices include:\n",
    "\n",
    "* Read the Terms of Service and Privacy Policies of a website before scraping it (this might not be possible in many situations though).\n",
    "* If it’s not clear from looking at the website, contact the webmaster and ask if and what you’re allowed to harvest.\n",
    "* Be gentle on smaller websites\n",
    "    * Run your scraper in off-peak hours\n",
    "    * Space out your requests.\n",
    "* Identify yourself by name and email in your User-Agent strings.\n",
    "* Inspecting the **robots.txt** file for rules about what pages can be scraped, indexed, etc.\n",
    "\n",
    "### What is a robots.txt?\n",
    "\n",
    "A simple text file placed on the web server which tells crawlers which file they can and cannot access. It's also called _The Robots Exclusion Protocol_.\n",
    "\n",
    "<img src='figures/robots.png' width=\"600\">\n",
    "\n",
    "#### Some examples"
   ]
  },
  {
   "cell_type": "code",
   "execution_count": 42,
   "metadata": {
    "hidden": true
   },
   "outputs": [
    {
     "name": "stdout",
     "output_type": "stream",
     "text": [
      "User-Agent: *\n",
      "\n",
      "Disallow: /search/\n",
      "\n",
      "Allow: /\n",
      "\n",
      "-----\n",
      "# robots.txt for http://www.boxofficemojo.com\n",
      "\n",
      "User-agent: *\n",
      "Disallow: /movies/default.movies.htm\n",
      "Disallow: /showtimes/buy.php\n",
      "Disallow: /forums/\n",
      "Disallow: /derbygame/\n",
      "Disallow: /grades/\n",
      "Disallow: /moviehangman/\n",
      "Disallow: /users/\n",
      "\n",
      "\n",
      "-----\n",
      "User-agent: *\n",
      "Disallow: /em/\n",
      "Disallow: /latest/\n",
      "Disallow: /stats/\n",
      "Disallow: /go/\n",
      "Disallow: /wl/\n",
      "Disallow: /g/\n",
      "Disallow: /commonphp/\n",
      "Disallow: /wp-admin/\n",
      "Disallow: /thanks-for-subscribing/\n",
      "Disallow: /131490/\n",
      "Disallow: /167877/\n",
      "Disallow: /178022/\n",
      "Disallow: /178645/\n",
      "Disallow: /wp-content/uploads/contentframe/\n",
      "Allow: /\n",
      "\n",
      "\n",
      "\n",
      "\n",
      "#\n",
      "# Yahoo bot is evil.\n",
      "#\n",
      "User-agent: Slurp\n",
      "Disallow: /\n",
      "\n",
      "#\n",
      "# Wut? 80 legs? Where do I get traffic from this?\n",
      "#\n",
      "User-agent: 008\n",
      "Disallow: /\t\n",
      "\n",
      "#\n",
      "# Yahoo Pipes is for feeds not web pages.\n",
      "#\n",
      "User-agent: Yahoo Pipes 1.0\n",
      "Disallow: /\n",
      "\n",
      "#\n",
      "# There&#039;s no need to scan the forums for images\n",
      "#\n",
      "User-agent: Googlebot-Image\n",
      "Disallow: /forum/\n",
      "\n",
      "Sitemap: https://www.howtogeek.com/sitemap.xml\n"
     ]
    }
   ],
   "source": [
    "print(requests.get('https://www.nesta.org.uk/robots.txt').text)\n",
    "print('-----')\n",
    "print(requests.get('https://www.boxofficemojo.com/robots.txt').text)\n",
    "print('-----')\n",
    "print(requests.get('https://www.howtogeek.com/robots.txt').text)"
   ]
  },
  {
   "cell_type": "markdown",
   "metadata": {
    "hidden": true
   },
   "source": [
    "#### What's a User-Agent?\n",
    "\n",
    "A User-Agent is a string identifying the browser and operating system to the web server. It's your machine's way of saying _Hi, I am Chrome on macOS_ to a web server.\n",
    "\n",
    "Web servers use user agents for a variety of purposes:\n",
    "* Serving different web pages to different web browsers. This can be used for good – for example, to serve simpler web pages to older browsers – or evil – for example, to display a “This web page must be viewed in Internet Explorer” message.\n",
    "* Displaying different content to different operating systems – for example, by displaying a slimmed-down page on mobile devices.\n",
    "* Gathering statistics showing the browsers and operating systems in use by their users. If you ever see browser market-share statistics, this is how they’re acquired.\n",
    "\n",
    "Let's break down the structure of a human-operated User-Agent:\n",
    "\n",
    "```Mozilla/5.0 (iPad; U; CPU OS 3_2_1 like Mac OS X; en-us) AppleWebKit/531.21.10 (KHTML, like Gecko) Mobile/7B405```\n",
    "\n",
    "The components of this string are as follows:\n",
    "\n",
    "* Mozilla/5.0: Previously used to indicate compatibility with the Mozilla rendering engine.\n",
    "* (iPad; U; CPU OS 3_2_1 like Mac OS X; en-us): Details of the system in which the browser is running.\n",
    "* AppleWebKit/531.21.10: The platform the browser uses.\n",
    "* (KHTML, like Gecko): Browser platform details.\n",
    "* Mobile/7B405: This is used by the browser to indicate specific enhancements that are available directly in the browser or through third parties. An example of this is Microsoft Live Meeting which registers an extension so that the Live Meeting service knows if the software is already installed, which means it can provide a streamlined experience to joining meetings.\n",
    "\n",
    "When scraping websites, it is a good idea to include your contact information as a custom **User-Agent** string so that the webmaster can get in contact. For example:"
   ]
  },
  {
   "cell_type": "code",
   "execution_count": 43,
   "metadata": {
    "hidden": true
   },
   "outputs": [
    {
     "name": "stdout",
     "output_type": "stream",
     "text": [
      "{'User-Agent': 'Kostas Stathoulopoulos bot', 'Accept-Encoding': 'gzip, deflate', 'Accept': '*/*', 'Connection': 'keep-alive', 'From': 'konstantinos.stathoulopoulos@nesta.org.uk'}\n"
     ]
    }
   ],
   "source": [
    "headers = {\n",
    "    'User-Agent': 'Kostas Stathoulopoulos bot',\n",
    "    'From': 'konstantinos.stathoulopoulos@nesta.org.uk'\n",
    "}\n",
    "request = requests.get('https://www.nesta.org.uk/', headers=headers)\n",
    "print(request.request.headers)"
   ]
  },
  {
   "cell_type": "markdown",
   "metadata": {},
   "source": [
    "## Additional resources/references:\n",
    "\n",
    "* [Document Object Model (DOM)](https://developer.mozilla.org/en-US/docs/Web/API/Document_Object_Model/Introduction)\n",
    "* [HTML elements reference guide](https://www.w3schools.com/tags/default.asp)\n",
    "* [About /robots.txt](https://www.robotstxt.org/robotstxt.html)\n",
    "* [The robots.txt file](https://varvy.com/robottxt.html)\n",
    "* [Ethics in Web Scraping](https://towardsdatascience.com/ethics-in-web-scraping-b96b18136f01)\n",
    "* [On the Ethics of Web Scraping](http://robertorocha.info/on-the-ethics-of-web-scraping/)\n",
    "* [User-Agent](https://en.wikipedia.org/wiki/User_agent)\n",
    "* [BeautifulSoup documentation](https://www.crummy.com/software/BeautifulSoup/bs4/doc/)\n",
    "* [Selinium Python - Unofficial documentation](https://selenium-python.readthedocs.io/)\n",
    "* [ARGUS paper](http://ftp.zew.de/pub/zew-docs/dp/dp18033.pdf)\n",
    "* [Brian's C. Keegan](http://www.brianckeegan.com/) excellent [5-week web scraping course](https://github.com/CU-ITSS/Web-Data-Scraping-S2019) intended for researchers in the social sciences and humanities."
   ]
  },
  {
   "cell_type": "markdown",
   "metadata": {},
   "source": [
    "## BONUS SECTION: Advanced web scraping tools\n",
    "\n",
    "**[Scrapy](https://scrapy.org)** is a Python framework for large scale web scraping. It gives you all the tools you need to efficiently extract data from websites, process them as you want, and store them in your preferred structure and format.\n",
    "\n",
    "**[ARGUS](https://github.com/datawizard1337/ARGUS)** is an easy-to-use web mining tool that's built on Scrapy. It is able to crawl a broad range of different websites.\n",
    "\n",
    "**[Selenium](https://selenium-python.readthedocs.io/index.html)** is an umbrella project encapsulating a variety of tools and libraries enabling web browser automation. Selenium specifically provides infrastructure for the W3C WebDriver specification — a platform and language-neutral coding interface compatible with all major web browsers. We can use it to imitate a user's behaviour and interact with Javascript elements (buttons, sliders etc.).\n",
    "\n",
    "For now, let's see how Selenium works.\n",
    "\n",
    "### How to install Selenium\n",
    "1. If you are using Anaconda: `conda install -c conda-forge selenium `\n",
    "2. Download the driver for your web browser for [here](https://selenium-python.readthedocs.io/installation.html#drivers). \n",
    "\n",
    "    **Note:** Choose a driver that corresponds to your web browser's version. Unzip the file and move the executable to your working directory.\n",
    "\n",
    "#### Important note on Selinium and web drivers\n",
    "If you are running this notebook locally, follow the above steps and run the code directly below (change the path to where your web driver is located). If you are running this notebook on colab, skip the next cell and run the one below it.\n",
    "\n",
    "### Scraping data with Selenium\n",
    "We will use [UK's Yearly Box Office](https://www.boxofficemojo.com/intl/uk/yearly/) to scrape not only the top 100 but all the top movies of 2019. This will be our pipeline:\n",
    "\n",
    "<img src='figures/selenium-pipeline.png' width='1024'>"
   ]
  },
  {
   "cell_type": "code",
   "execution_count": 44,
   "metadata": {},
   "outputs": [],
   "source": [
    "import selenium.webdriver\n",
    "import sys\n",
    "IN_COLAB = 'google.colab' in sys.modules\n",
    "\n",
    "if not IN_COLAB:  # WHEN USING THE NOTEBOOK LOCALLY (INSTALL SELENIUM FIRST)\n",
    "    # You may need to pass `executable_path` depending on where you downloaded\n",
    "    # the driver to.\n",
    "    # See: https://github.com/SeleniumHQ/selenium/wiki/ChromeDriver\n",
    "    driver = selenium.webdriver.Chrome()\n",
    "else:  # WHEN USING THE NOTEBOOK ON COLAB\n",
    "    # install chromium, its driver, and selenium\n",
    "    !apt update\n",
    "    !apt install chromium-chromedriver\n",
    "    !pip install selenium\n",
    "    # set options to be headless\n",
    "    options = selenium.webdriver.ChromeOptions()\n",
    "    options.add_argument('--headless')\n",
    "    options.add_argument('--no-sandbox')\n",
    "    options.add_argument('--disable-dev-shm-usage')\n",
    "    # open it, go to a website, and get results\n",
    "    driver = webdriver.Chrome('chromedriver',options=options)"
   ]
  },
  {
   "cell_type": "code",
   "execution_count": 45,
   "metadata": {},
   "outputs": [],
   "source": [
    "def html2df(source, q):\n",
    "    \"\"\"A wrapper of the scraping pipeline we used before.\"\"\"\n",
    "    # Parse the HTML page\n",
    "    soup = BeautifulSoup(source, 'html.parser')\n",
    "\n",
    "    # Choose the relevant table\n",
    "    table = soup.find_all('table')[4]\n",
    "\n",
    "    # Parse and store the data of every table row\n",
    "    lst = []\n",
    "    for row in table.find_all('tr'):\n",
    "        s = pd.Series([data.text for data in row.find_all('td')])\n",
    "        lst.append(s)\n",
    "\n",
    "    # Concatenate the data in a Pandas DataFrame and place the first row of the DataFrame as header.\n",
    "    data = pd.concat(lst, axis=1).T\n",
    "\n",
    "    # Grab the first row for the header\n",
    "    new_header = data.iloc[0]\n",
    "\n",
    "    # Take the data less the header row\n",
    "    data = data[1:]\n",
    "\n",
    "    # Set the header row as the df header\n",
    "    data.columns = new_header\n",
    "    \n",
    "    # Add a new column tagging the page we scraped\n",
    "    data['page'] = q \n",
    "    \n",
    "    return data"
   ]
  },
  {
   "cell_type": "markdown",
   "metadata": {},
   "source": [
    "### About the `driver`\n",
    "The `driver` object establishes a connection from this Python environment out to the browser window.\n",
    "\n",
    "**Note:** A new Chrome window will pop-up when you run the code cell below."
   ]
  },
  {
   "cell_type": "code",
   "execution_count": 46,
   "metadata": {},
   "outputs": [],
   "source": [
    "# URL to use in Selenium\n",
    "driver.get('https://www.boxofficemojo.com/intl/uk/yearly/')"
   ]
  },
  {
   "cell_type": "code",
   "execution_count": 47,
   "metadata": {},
   "outputs": [],
   "source": [
    "lst = []\n",
    "lst.append(html2df(driver.page_source, '#1'))\n",
    "for i in ['#101', '#201', '#301', '#401']:\n",
    "    # Locate Hyperlinks by partial link text\n",
    "    elem = driver.find_element_by_partial_link_text(i)\n",
    "    # Click on the next page\n",
    "    elem.click()\n",
    "    # Store the Pandas DataFrame with the scraped content in a list\n",
    "    lst.append(html2df(driver.page_source, i))\n",
    "\n",
    "# Concatenate all Pandas DataFrames\n",
    "df = pd.concat(lst)"
   ]
  },
  {
   "cell_type": "code",
   "execution_count": 48,
   "metadata": {},
   "outputs": [
    {
     "data": {
      "text/html": [
       "<div>\n",
       "<style scoped>\n",
       "    .dataframe tbody tr th:only-of-type {\n",
       "        vertical-align: middle;\n",
       "    }\n",
       "\n",
       "    .dataframe tbody tr th {\n",
       "        vertical-align: top;\n",
       "    }\n",
       "\n",
       "    .dataframe thead th {\n",
       "        text-align: right;\n",
       "    }\n",
       "</style>\n",
       "<table border=\"1\" class=\"dataframe\">\n",
       "  <thead>\n",
       "    <tr style=\"text-align: right;\">\n",
       "      <th></th>\n",
       "      <th>Rank</th>\n",
       "      <th>Movie Title</th>\n",
       "      <th>Distributor</th>\n",
       "      <th>Gross</th>\n",
       "      <th>Release</th>\n",
       "      <th>page</th>\n",
       "    </tr>\n",
       "  </thead>\n",
       "  <tbody>\n",
       "    <tr>\n",
       "      <th>1</th>\n",
       "      <td>1</td>\n",
       "      <td>Avengers: Endgame</td>\n",
       "      <td>Disney</td>\n",
       "      <td>$114,921,662</td>\n",
       "      <td>4/25</td>\n",
       "      <td>#1</td>\n",
       "    </tr>\n",
       "    <tr>\n",
       "      <th>2</th>\n",
       "      <td>2</td>\n",
       "      <td>The Lion King (2019)</td>\n",
       "      <td>Disney</td>\n",
       "      <td>$92,861,427</td>\n",
       "      <td>7/19</td>\n",
       "      <td>#1</td>\n",
       "    </tr>\n",
       "  </tbody>\n",
       "</table>\n",
       "</div>"
      ],
      "text/plain": [
       "0 Rank           Movie Title Distributor         Gross Release page\n",
       "1    1     Avengers: Endgame      Disney  $114,921,662    4/25   #1\n",
       "2    2  The Lion King (2019)      Disney   $92,861,427    7/19   #1"
      ]
     },
     "execution_count": 48,
     "metadata": {},
     "output_type": "execute_result"
    }
   ],
   "source": [
    "df.head(2)"
   ]
  },
  {
   "cell_type": "code",
   "execution_count": 49,
   "metadata": {},
   "outputs": [
    {
     "name": "stdout",
     "output_type": "stream",
     "text": [
      "(MOVIES, COLUMNS) -> (500, 6)\n"
     ]
    }
   ],
   "source": [
    "print(f'(MOVIES, COLUMNS) -> {df.shape}')"
   ]
  },
  {
   "cell_type": "markdown",
   "metadata": {},
   "source": [
    "## Exercise\n",
    "\n",
    "Use Selenium to scrape Box Office Mojo's top \\#100 for every year between 2002 and 2019.\n",
    "\n",
    "[Link to the solutions. Don't cheat!](https://colab.research.google.com/github/nestauk/im-tutorials/blob/apis-web-scraping/notebooks/Web-Scraping/solutions.ipynb)"
   ]
  },
  {
   "cell_type": "code",
   "execution_count": 50,
   "metadata": {},
   "outputs": [],
   "source": [
    "url = 'https://www.boxofficemojo.com/intl/uk/yearly/'"
   ]
  },
  {
   "cell_type": "code",
   "execution_count": 51,
   "metadata": {},
   "outputs": [],
   "source": [
    "# URL to use in Selenium\n",
    "# write your code here (~1 line)\n",
    "\n",
    "lst = []\n",
    "# Loop over the years.\n",
    "# write your code here (~1-2 lines)\n",
    "\n",
    "    # Locate Hyperlinks by partial link text\n",
    "    # write your code here (~1 line)\n",
    "\n",
    "    # Click on the next page\n",
    "    # write your code here (~1 line)\n",
    "\n",
    "    # Store the Pandas DataFrame with the scraped content in a list\n",
    "    # write your code here (~1 line)\n",
    "\n",
    "# Concatenate all Pandas DataFrames\n",
    "# write your code here (~1 line)"
   ]
  }
 ],
 "metadata": {
  "hide_input": false,
  "kernelspec": {
   "display_name": "Python 3",
   "language": "python",
   "name": "python3"
  },
  "language_info": {
   "codemirror_mode": {
    "name": "ipython",
    "version": 3
   },
   "file_extension": ".py",
   "mimetype": "text/x-python",
   "name": "python",
   "nbconvert_exporter": "python",
   "pygments_lexer": "ipython3",
   "version": "3.6.5"
  },
  "toc": {
   "base_numbering": 1,
   "nav_menu": {},
   "number_sections": true,
   "sideBar": true,
   "skip_h1_title": false,
   "title_cell": "Table of Contents",
   "title_sidebar": "Contents",
   "toc_cell": false,
   "toc_position": {},
   "toc_section_display": true,
   "toc_window_display": false
  },
  "varInspector": {
   "cols": {
    "lenName": 16,
    "lenType": 16,
    "lenVar": 40
   },
   "kernels_config": {
    "python": {
     "delete_cmd_postfix": "",
     "delete_cmd_prefix": "del ",
     "library": "var_list.py",
     "varRefreshCmd": "print(var_dic_list())"
    },
    "r": {
     "delete_cmd_postfix": ") ",
     "delete_cmd_prefix": "rm(",
     "library": "var_list.r",
     "varRefreshCmd": "cat(var_dic_list()) "
    }
   },
   "types_to_exclude": [
    "module",
    "function",
    "builtin_function_or_method",
    "instance",
    "_Feature"
   ],
   "window_display": false
  }
 },
 "nbformat": 4,
 "nbformat_minor": 2
}

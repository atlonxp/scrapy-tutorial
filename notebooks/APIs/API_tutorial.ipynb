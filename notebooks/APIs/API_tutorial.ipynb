{
 "cells": [
  {
   "cell_type": "code",
   "execution_count": null,
   "metadata": {},
   "outputs": [],
   "source": [
    "%matplotlib inline\n",
    "%load_ext autoreload\n",
    "%autoreload 2\n",
    "\n",
    "# Download im_tutorial package\n",
    "!git clone -b 3-ysi-tutorial git+https://github.com/nestauk/im-tutorials.git \n",
    "    \n",
    "# install other packages we need\n",
    "!pip install ratelim pandas tenacity"
   ]
  },
  {
   "cell_type": "markdown",
   "metadata": {},
   "source": [
    "# Introduction to requests and API's"
   ]
  },
  {
   "cell_type": "markdown",
   "metadata": {},
   "source": [
    "## What you will be able to do after the tutorial\n",
    "\n",
    "- Understand what a (RESTful) API is\n",
    "- Understand what a HTTP request is\n",
    "- Use Python to make requests to an API\n",
    "- Use Python to work with JSON data\n",
    "- Use Python to read JSON data into a Dataframe and plot it\n",
    "- Understand how to overcome some real-world complexities when using API's\n",
    "      \n",
    "      "
   ]
  },
  {
   "cell_type": "markdown",
   "metadata": {},
   "source": [
    "## Prerequisites\n",
    "\n",
    "Before we get started with using API's in python we need to know a little more first."
   ]
  },
  {
   "cell_type": "markdown",
   "metadata": {},
   "source": [
    "### APIs : What and why\n",
    "    \n",
    "An API (Application Programming interface) is a way for two different applications to communicate. Whilst the term applies to any two programs we are using it to refer to the API of a web service that provides data.\n",
    "\n",
    "To retrieve data from an API, a request to a remote web server is made.\n",
    "\n",
    "For example, if you want to build an application which plots stock prices, you would use the API of something like google finance to request the current stock prices.\n",
    "\n",
    "APIs are useful where:\n",
    "* Data is changing quickly, e.g. stock prices\n",
    "* The whole dataset is not required, e.g. the tweets of one user\n",
    "* Repeated computation is involved, e.g. Spotify API that tells you the genre of a piece of music\n",
    "\n",
    "#### REST\n",
    "\n",
    "Most API's you come across will be RESTful, i.e. they provide a REST (REpresentational State Transfer) interface.\n",
    "\n",
    "REST uses standard HTTP commands which means that getting data from an API is similar to accessing a webpage. \n",
    "\n",
    "For example, When you type `www.duckduckgo.com` in your browser, your browser is asking the `www.duckduckgo.com` server for a webpage by making a `GET` HTTP (Hypertext Transfer Protocol) request. Making a `GET` request to a RESTful API instead retrieves data (rather than a webpage).\n",
    "\n",
    "Similarly, while your browser uses `POST` to submit the contents of a form, REST APIs use `POST` to update data.\n",
    "\n",
    "REST APIs also uses other HTTP commmands such as `PUT` - for creating data - and `DELETE` - for removing data.\n",
    "\n",
    "HTTP is a text-based protocol (the response is always text) and could return a response in any format - this is typically found in the API documentation - though data is more often than not returned in JSON format.\n",
    "\n",
    "As they are used to retrieve data `GET` requests are the most commonly used type of request, therefore we will restrict ourselves to `GET` in this tutorial.\n",
    "\n",
    "#### JSON\n",
    "\n",
    "JSON (JavaScript Object Notation) is a format for sending data, that is meant to be human readable and easy to parse (It was derived from JavaScript but is language-independent).\n",
    "\n",
    "It uses attribute-value pairs (e.g. python dictionaries `{\"name\": \"Pizza\", \"foodRanking\": 1}`) and array data-types (e.g. python lists `[1, 2, 3]`)\n",
    "\n",
    "Example JSON representation :\n",
    "```\n",
    "{\n",
    "  \"firstName\": \"Donald\",\n",
    "  \"lastName\": \"Trump\",\n",
    "  \"age\": 73,\n",
    "  \"isAlive\": true,\n",
    "  \"color\": \"orange\",\n",
    "  \"addresses\": [\n",
    "      {\n",
    "          \"streetAddress\": \"1600 Pennsylvania Avenue NW\",\n",
    "          \"city\": \"Washington, D.C.\",\n",
    "          \"state\": \"null\",\n",
    "          \"postalCode\": \"20500\",\n",
    "          \"country\": \"US\"\n",
    "      },\n",
    "      {\n",
    "          \"streetAddress\": \"721 Fifth Avenue\",\n",
    "          \"city\": \"NYC\",\n",
    "          \"state\": \"NY\",\n",
    "          \"postalCode\": \"10022\",\n",
    "          \"country\": \"US\"\n",
    "      }\n",
    "  ],\n",
    "}\n",
    "```\n",
    "\n",
    "\n",
    "#### Status codes\n",
    "\n",
    "So we've sent off some mystery `GET` request but how do we know the request was successful?\n",
    "\n",
    "Servers issue numeric [status codes](https://developer.mozilla.org/en-US/docs/Web/HTTP/Status) in response to HTTP requests that indicate whether a request has been successfully completed.\n",
    "\n",
    "Some common ones relating to `GET` requests are:\n",
    "* `200` - Success\n",
    "* `300` - The API is redirecting to a different endpoint\n",
    "* `400` - Bad request\n",
    "* `401` - Not authenticated\n",
    "* `403` - Forbidden\n",
    "* `404` - Not found\n",
    "* `429` - Too many requests"
   ]
  },
  {
   "cell_type": "markdown",
   "metadata": {},
   "source": [
    "### Pandas - the absolute basics\n",
    "\n",
    "We will be using Pandas (a contraction of 'panel' and 'data'). Pandas is a python library for doing practical, real world data analysis.\n",
    "\n",
    "Being comfortable with using pandas is a tutorial (or set of tutorials) alone$^{*}$, so don't worry if you're unfamiliar, but we will pick up the basics.\n",
    "\n",
    "\\* *(See the resources section at the end of this tutorial for more resources on pandas)*\n",
    "\n",
    "The main data-structure in pandas is the dataframe, it stores rows of observations over columns of variables. Lets see how it works..."
   ]
  },
  {
   "cell_type": "markdown",
   "metadata": {},
   "source": [
    "#### Construct a DataFrame"
   ]
  },
  {
   "cell_type": "code",
   "execution_count": null,
   "metadata": {},
   "outputs": [],
   "source": [
    "import pandas as pd  # Import the package\n",
    "\n",
    "# Some input data - a small sample of the iris dataset\n",
    "data = {\n",
    "    'sepal_length': [6.9, 6.9, 4.8, 5.4, 4.6],\n",
    "    'sepal_width': [3.2, 3.1, 3.4, 3.0, 3.6],\n",
    "    'petal_length': [5.7, 5.1, 1.9, 4.5, 1.0],\n",
    "    'petal_width': [2.3, 2.3, 0.2, 1.5, 0.2],\n",
    "    'species': ['virginica', 'virginica', 'setosa', 'versicolor', 'setosa']\n",
    "}\n",
    "\n",
    "df = pd.DataFrame(data)\n",
    "\n",
    "df # Typing a variable at the end of a cell will print it out"
   ]
  },
  {
   "cell_type": "markdown",
   "metadata": {},
   "source": [
    "#### Indexes"
   ]
  },
  {
   "cell_type": "code",
   "execution_count": null,
   "metadata": {},
   "outputs": [],
   "source": [
    "df.index  # Access the index"
   ]
  },
  {
   "cell_type": "code",
   "execution_count": null,
   "metadata": {},
   "outputs": [],
   "source": [
    "# Change the index\n",
    "df.index = [2, 3, 4, 5, 6]\n",
    "print(df.index)  # Access the index\n",
    "df"
   ]
  },
  {
   "cell_type": "code",
   "execution_count": null,
   "metadata": {},
   "outputs": [],
   "source": [
    "df.index = df.index - 1  # Change the index\n",
    "df.index  # Access the index"
   ]
  },
  {
   "cell_type": "markdown",
   "metadata": {},
   "source": [
    "#### COLUMNS"
   ]
  },
  {
   "cell_type": "code",
   "execution_count": null,
   "metadata": {},
   "outputs": [],
   "source": [
    "df.columns  # Access the columns"
   ]
  },
  {
   "cell_type": "code",
   "execution_count": null,
   "metadata": {},
   "outputs": [],
   "source": [
    "# Change the columns\n",
    "df.columns = ['sepal_length', 'sepal_width', \n",
    "              'petal_length', 'petal_width', 'SPECIES']\n",
    "print(df.columns)\n",
    "df"
   ]
  },
  {
   "cell_type": "code",
   "execution_count": null,
   "metadata": {},
   "outputs": [],
   "source": [
    "# Apply the `str.lower` function to every column\n",
    "df.columns = map(str.lower, df.columns)\n",
    "df.columns  # Access the columns"
   ]
  },
  {
   "cell_type": "markdown",
   "metadata": {},
   "source": [
    "#### Accessing columns"
   ]
  },
  {
   "cell_type": "code",
   "execution_count": null,
   "metadata": {},
   "outputs": [],
   "source": [
    "# Access one column \n",
    "df.loc[:, 'sepal_length']"
   ]
  },
  {
   "cell_type": "code",
   "execution_count": null,
   "metadata": {},
   "outputs": [],
   "source": [
    "# Access one column (short-hand)\n",
    "df['sepal_length']"
   ]
  },
  {
   "cell_type": "code",
   "execution_count": null,
   "metadata": {},
   "outputs": [],
   "source": [
    "# Access two columns\n",
    "df.loc[:, ['sepal_length', 'sepal_width']]"
   ]
  },
  {
   "cell_type": "code",
   "execution_count": null,
   "metadata": {},
   "outputs": [],
   "source": [
    "# Access two columns (short-hand)\n",
    "df[['sepal_length', 'sepal_width']]"
   ]
  },
  {
   "cell_type": "markdown",
   "metadata": {},
   "source": [
    "#### Accessing rows"
   ]
  },
  {
   "cell_type": "code",
   "execution_count": null,
   "metadata": {},
   "outputs": [],
   "source": [
    "# Access one row \n",
    "df.loc[3, :]"
   ]
  },
  {
   "cell_type": "code",
   "execution_count": null,
   "metadata": {},
   "outputs": [],
   "source": [
    "# Access two rows\n",
    "df.loc[[3, 0], :]\n",
    "# Note: `0` is not an index so it's value's are `NaN` (not a number), i.e. missing"
   ]
  },
  {
   "cell_type": "code",
   "execution_count": null,
   "metadata": {},
   "outputs": [],
   "source": [
    "# Access a range of rows\n",
    "df.loc[2:5, :]"
   ]
  },
  {
   "cell_type": "code",
   "execution_count": null,
   "metadata": {},
   "outputs": [],
   "source": [
    "# Access rows by index location (number starting from zero)\n",
    "df.iloc[0:2, :]"
   ]
  },
  {
   "cell_type": "code",
   "execution_count": null,
   "metadata": {},
   "outputs": [],
   "source": [
    "# Filter keeping only rows with `sepal_length` > 5\n",
    "df[df.sepal_length > 5]"
   ]
  },
  {
   "cell_type": "code",
   "execution_count": null,
   "metadata": {},
   "outputs": [],
   "source": [
    "# Filter keeping only rows with `sepal_length` > 5 (alternative syntax)\n",
    "df.query(\"sepal_length > 5\")"
   ]
  },
  {
   "cell_type": "markdown",
   "metadata": {},
   "source": [
    "#### Reading data from disk"
   ]
  },
  {
   "cell_type": "markdown",
   "metadata": {},
   "source": [
    "Pandas can read files directly from a file (even excel files) and will automatically try and infer as much as it can about the structure of the data)\n",
    "\n",
    "``` python\n",
    "filename = 'Your_filename_here.json'\n",
    "df = pd.read_json(filename)\n",
    "\n",
    "filename = 'Your_filename_here.csv'\n",
    "df = pd.read_csv(filename)\n",
    "\n",
    "# Requires `xlrd` package to be installed\n",
    "filename = 'Your_filename_here.xlsx'\n",
    "df = pd.read_excel(filename)\n",
    "```"
   ]
  },
  {
   "cell_type": "code",
   "execution_count": null,
   "metadata": {},
   "outputs": [],
   "source": [
    "# You may need to manually tell pandas some things about your dataset\n",
    "# Lots of options detailed in the docs... \n",
    "pd.read_csv?"
   ]
  },
  {
   "cell_type": "markdown",
   "metadata": {},
   "source": [
    "#### Adding new columns"
   ]
  },
  {
   "cell_type": "code",
   "execution_count": null,
   "metadata": {},
   "outputs": [],
   "source": [
    "df['new_column'] = 1\n",
    "df"
   ]
  },
  {
   "cell_type": "code",
   "execution_count": null,
   "metadata": {},
   "outputs": [],
   "source": [
    "df['new_column'] = [1, 2, 3, 4, 5]\n",
    "df"
   ]
  },
  {
   "cell_type": "code",
   "execution_count": null,
   "metadata": {},
   "outputs": [],
   "source": [
    "df['new_column'] = df['sepal_length'] - df['petal_length']\n",
    "df"
   ]
  },
  {
   "cell_type": "markdown",
   "metadata": {},
   "source": [
    "## Example API: Eurostat\n",
    "\n",
    "Let's dive in by looking at an API that can be of use to us, the [EUROSTAT API](https://ec.europa.eu/eurostat/web/json-and-unicode-web-services).\n",
    "\n",
    "The documentation linked gives a very useful summary of the structure of the requests:\n",
    "![](figures/eurostat_api.png)\n",
    " \n",
    "* host_url : fixed part of the request related to our website\n",
    "* service : fixed part of the request related to the service\n",
    "* version : fixed part of the request related to the version of the service\n",
    "* format : data format to be returned (json or unicode)\n",
    "* lang : language used for metadata (en/fr/de)\n",
    "* datasetCode : unique code identifier of the queried dataset\n",
    "* filters : specify the scope of the query (optional). There is a threshold of maximum 50 sub-indicators per query. The filters are specific to a dataset, depending on dataset dimensions.\n",
    "    * precision : the number of decimals for the values returned by the request\n",
    "    * unit : filter on the dataset's UNIT dimension "
   ]
  },
  {
   "cell_type": "markdown",
   "metadata": {},
   "source": [
    "We'll learn by example how to use Python to get the data for a REST GET request on this dataset (`nama_10_gdp`).\n",
    "\n",
    "We will use the Python library `requests` - https://github.com/psf/requests."
   ]
  },
  {
   "cell_type": "code",
   "execution_count": null,
   "metadata": {},
   "outputs": [],
   "source": [
    "import requests  # Import the requests library\n",
    "\n",
    "# Query URL\n",
    "url = ('http://ec.europa.eu/eurostat/wdds/rest/data/v2.1/json/en'\n",
    "       '/nama_10_gdp?precision=1'\n",
    "       '&unit=CLV05_MEUR'  # Unit: CLV (2005) Million EUR\n",
    "       '&geo=NL&geo=DE'  # Country: Netherlands, Germany\n",
    "       '&time=2010&time=2011&time=2012'  # Years: 2010, 2011, 2012\n",
    "       '&na_item=B1GQ&na_item=D21'  # Gross value added & taxes on products\n",
    "       )\n",
    "# Some api's will have nicer syntax like:\n",
    "# `&time=2010..2012` or `&na_item=B1GQ,D21`\n",
    "print(url)\n",
    "\n",
    "response = requests.get(url)  # Make a GET request to the URL\n",
    "\n",
    "# Print status code (and associated text)\n",
    "print(f\"Request returned {response.status_code} : '{response.reason}'\")\n",
    "\n",
    "# Print data returned (parsing as JSON)\n",
    "payload = response.json()  # Parse `response.text` into JSON\n",
    "\n",
    "import pprint\n",
    "pp = pprint.PrettyPrinter(indent=1)\n",
    "pp.pprint(payload)\n",
    "# NOTE: Could use print(response.json()) but this wouldn't be formatted nicely"
   ]
  },
  {
   "cell_type": "markdown",
   "metadata": {},
   "source": [
    "---\n",
    "\n",
    "**Tip:** it's easy to forget what attributes a variable like `response` has - was it `status_code` or `status`?\n",
    "Use the function `dir` to list the contents of a variable.\n",
    "\n",
    "``` python\n",
    "dir(response)\n",
    "```\n",
    "\n",
    "If you're in a jupyter notebook you can also type \"response.\" and then press `TAB` and an autocomplete bar will pop up.\n",
    "\n",
    "---"
   ]
  },
  {
   "cell_type": "markdown",
   "metadata": {},
   "source": [
    "**SUCCESS!** But what's the structure of our data?"
   ]
  },
  {
   "cell_type": "code",
   "execution_count": null,
   "metadata": {},
   "outputs": [],
   "source": [
    "payload['value']  # The values returned aren't very informative!"
   ]
  },
  {
   "cell_type": "code",
   "execution_count": null,
   "metadata": {},
   "outputs": [],
   "source": [
    "list(zip(payload['id'], payload['size']))  # Dimensions of our data (1 x 2 x 1 x 3)"
   ]
  },
  {
   "cell_type": "code",
   "execution_count": null,
   "metadata": {},
   "outputs": [],
   "source": [
    "payload['dimension']  # Gives us the dimension details of the data"
   ]
  },
  {
   "cell_type": "code",
   "execution_count": null,
   "metadata": {},
   "outputs": [],
   "source": [
    "list_of_keys = []\n",
    "for k in payload['id']:\n",
    "    list_of_keys.append(\n",
    "        payload['dimension'][k]['category']['index'].keys()\n",
    "        )\n",
    "print(list_of_keys)\n",
    "    \n",
    "# NOTE: Equivalent to: [payload['dimension'][k]['category']['index'].keys() for k in payload['id']]"
   ]
  },
  {
   "cell_type": "code",
   "execution_count": null,
   "metadata": {},
   "outputs": [],
   "source": [
    "index = pd.MultiIndex.from_product(\n",
    "    [payload['dimension'][k]['category']['index'].keys() for k in payload['id']],\n",
    "    names=payload['id']\n",
    ")\n",
    "index"
   ]
  },
  {
   "cell_type": "code",
   "execution_count": null,
   "metadata": {},
   "outputs": [],
   "source": [
    "df = pd.DataFrame(payload['value'].values(), index=index, columns=['value'])\n",
    "df"
   ]
  },
  {
   "cell_type": "code",
   "execution_count": null,
   "metadata": {},
   "outputs": [],
   "source": [
    "# Let's calculate the means (across years) for each country and each `na_item`\n",
    "df_means = (df.groupby(['na_item', 'geo'])\n",
    "            .mean()\n",
    "           )\n",
    "df_means"
   ]
  },
  {
   "cell_type": "code",
   "execution_count": null,
   "metadata": {},
   "outputs": [],
   "source": [
    "# We can \"unstack\" indexes to become columns\n",
    "df.unstack('na_item')\n",
    "\n",
    "# NOTE the `value` at the top level of the columns - this means we can't do\n",
    "# `df['D21']` directly, but have to do `df['value']['D21'] \n",
    "# (or drop the `value` level from our dataframe which we will see below)"
   ]
  },
  {
   "cell_type": "code",
   "execution_count": null,
   "metadata": {},
   "outputs": [],
   "source": [
    "# We can reverse this with \"stack\"\n",
    "# `stack` makes a dataset longer (taller) and `unstack` makes a dataset wider\n",
    "(df\n",
    " .unstack('na_item')\n",
    " .stack('na_item')\n",
    " )"
   ]
  },
  {
   "cell_type": "code",
   "execution_count": null,
   "metadata": {},
   "outputs": [],
   "source": [
    "# We can also chain our commands together rather than storing the intermediate values\n",
    "(df\n",
    " .unstack(['na_item', 'geo'])  # unstacks indices (makes our dataset wider)\n",
    " .droplevel('unit', axis=0)  # Everything is in the same unit so we drop it\n",
    " .droplevel(0, axis=1)  # OR: ['value']\n",
    " .plot(kind='bar')  # Make a bar plot\n",
    " )"
   ]
  },
  {
   "cell_type": "markdown",
   "metadata": {},
   "source": [
    "### Exercise\n",
    "\n",
    "**Task**\n",
    "\n",
    "* Get the data for dataset `rd_e_berdindr2` from the Eurostat API for all NACE activities as a percentage of GDP\n",
    "* Read the data into a pandas dataframe\n",
    "* Calculate the total expenditure across countries each year\n",
    "* Plot it\n",
    "\n",
    "---\n",
    "**Links**\n",
    "\n",
    "* [Query builder](https://ec.europa.eu/eurostat/web/json-and-unicode-web-services/getting-started/query-builder)\n",
    "* [Data Explorer](https://appsso.eurostat.ec.europa.eu/nui/show.do?dataset=rd_e_berdindr2&lang=en)\n",
    "* [Metadata](https://ec.europa.eu/eurostat/cache/metadata/en/rd_esms.htm)\n",
    "\n",
    "---\n",
    "**Hint**\n",
    "If you look at the data-explorer/metadata/response you will see that there won't be a `payload['value']` for every possible index - there is missing data.\n",
    "To deal with this we can create a quick workaround by using a `defaultdict` from the `collections` library.\n",
    "A default dict takes a function and a dictionary as arguements. When a value is looked up in the dictionary that isn't found it calls and returns the function passed to `defaultdict`. \n",
    "\n",
    "Below we create a `defaultdict` that returns `None` for indexes that aren't there and builds a new dictionary that fills in the missing data:\n",
    "\n",
    "``` python\n",
    "from collections import defaultdict\n",
    "n = len(index)  # Length of our index\n",
    "def return_none():\n",
    "    return None\n",
    "d = defaultdict(return_none, payload['value'])  # Build default dict\n",
    "values = [\n",
    "    d[str(i)]  # Lookup `i` in dictionary\n",
    "    for i in range(n)  # Numberical indexes\n",
    "]\n",
    "```\n",
    "NOTE: We use `str(i)` because the keys of the dictionaries are strings not integers so we need to convert\n",
    "\n",
    "---\n",
    "**EXTENSION**\n",
    "\n",
    "Pick another dataset from Eurostat, fetch it and use a [`merge`](https://pandas.pydata.org/pandas-docs/stable/reference/api/pandas.DataFrame.merge.html) operation to join the two datasets together."
   ]
  },
  {
   "cell_type": "code",
   "execution_count": null,
   "metadata": {},
   "outputs": [],
   "source": [
    "## Template\n",
    "\n",
    "# Make the request\n",
    "import requests\n",
    "\n",
    "url = ...\n",
    "\n",
    "response = requests.get(url)\n",
    "response.raise_for_status()  # Gives an error if not successful\n",
    "\n",
    "# Parse into JSON\n",
    "payload = ...\n",
    "\n",
    "# Define the index from `payload['dimension']`\n",
    "index = ...\n",
    "\n",
    "# Get data values\n",
    "values = ...\n",
    "\n",
    "# Read into dataframe, manipulate and plot\n",
    "(pd.DataFrame(values, index=index)\n",
    "    # Make dataframe wider (~1 line(s))\n",
    "    # Get totals (1 line)\n",
    "    # Plot (1 line)\n",
    ")"
   ]
  },
  {
   "cell_type": "markdown",
   "metadata": {},
   "source": [
    "### Real-world considerations for Requests\n",
    "\n",
    "Things do not always go so nicely, particularly when using API's at scale.\n",
    "\n",
    "We'll quickly cover some other common considerations when using API's, and outline how they can be solved.\n",
    "\n",
    "#### Retries\n",
    "\n",
    "Sometimes you can do everything perfectly, and send off a request but something on the web-server (or elsewhere) can go wrong and give a bad status code.\n",
    "We don't want to silently ignore these errors or let them crash our program by raising an exception.\n",
    "The first port of call is to retry the request again.\n",
    "\n",
    "A hacky way to do this would be (**don't do this**):\n",
    "\n",
    "``` python\n",
    "import time\n",
    "import requests\n",
    "\n",
    "def get(url):\n",
    "    try:\n",
    "        r = requests.get(url)\n",
    "        r.raise_for_status()  # raise an error on a bad status\n",
    "    except:\n",
    "        time.sleep(1)  # sleep for a bit in case that helps\n",
    "        return get(url)  # try again\n",
    "```\n",
    "\n",
    "A better and easier way to do this is to use the [tenacity](https://github.com/jd/tenacity) library:\n",
    "\n",
    "``` python\n",
    "import requests\n",
    "from tenacity import retry, stop_after_attempt, wait_fixed\n",
    "\n",
    "@retry(stop=stop_after_attempt(3), wait=wait_fixed(0.1))\n",
    "def get(url):\n",
    "    try:\n",
    "        r = requests.get(url)\n",
    "        r.raise_for_status()  # raise an error on a bad status\n",
    "        return r\n",
    "    except:\n",
    "        print(r.status_code, r.reason)\n",
    "        raise\n",
    "```\n",
    "\n",
    "It uses a python decorator (the `@` symbol) to wrap our function with another function `retry` that will retry if we raise and error.\n",
    "We can it how many times to stop trying after, and how long to wait between each retry if we want.\n",
    "\n",
    "#### Authentication\n",
    "\n",
    "Not all API's are open for immediate use. For example, some require you pay for access (e.g. the google maps API) and some require you to register for access first.\n",
    "When you get access to a \"closed\" API, you will typically get an API key - a long string of letters and numbers - which is unique to you which you need to send along with any GET request you make to the API.\n",
    "This lets the API know who you are and decide how to deal with your request.\n",
    "\n",
    "Several different types of authentication exists (read the specific API docs) but the most common way is:\n",
    "``` python\n",
    "api_key = 'asodifhafglkkhj'\n",
    "r = requests.get(url, auth=(api_key, ''))\n",
    "```\n",
    "\n",
    "#### Rate limits\n",
    "\n",
    "API's can be costly to host and typically limit the number of requests that can be made (either by an IP or API key).\n",
    "If you exceed this limit you'll get a `429` status code for any extra requests you make (and may be blocked if you continue making them).\n",
    "\n",
    "It is important to therefore respect any rate limits given in an API's documentation (annoyingly some are very vague).\n",
    "The simplest way to do this is to limit how often the number of times our function that makes the request can be called using the [ratelim](https://pypi.org/project/ratelim/) library - again using decorators."
   ]
  },
  {
   "cell_type": "code",
   "execution_count": null,
   "metadata": {},
   "outputs": [],
   "source": [
    "import ratelim\n",
    "import time\n",
    "\n",
    "# 10 times in 5 seconds as fast as possible\n",
    "@ratelim.greedy(10, 5)\n",
    "def hello_greedy(i):\n",
    "    print(i, \"hello\")\n",
    "    \n",
    "# Fast\n",
    "t0 = time.time()\n",
    "for i in range(10):\n",
    "    hello_greedy(i)\n",
    "print(f\"Took {(time.time() - t0):.3f} seconds\")"
   ]
  },
  {
   "cell_type": "code",
   "execution_count": null,
   "metadata": {},
   "outputs": [],
   "source": [
    "# 10 times in 5 seconds as fast as possible\n",
    "@ratelim.greedy(10, 5)\n",
    "def hello_greedy(i):\n",
    "    print(i, \"hello\")\n",
    "\n",
    "# Takes ~5 seconds because we hit the rate limit\n",
    "t0 = time.time()\n",
    "for i in range(11):\n",
    "    hello_greedy(i)\n",
    "print(f\"Took {(time.time() - t0):.3f} seconds\")"
   ]
  },
  {
   "cell_type": "code",
   "execution_count": null,
   "metadata": {},
   "outputs": [],
   "source": [
    "# 10 times in 5 seconds\n",
    "# Gets called at most every 0.5 seconds\n",
    "@ratelim.patient(10, 5)\n",
    "def hello_patient(i):\n",
    "    print(i, \"hello\")\n",
    "\n",
    "# Takes ~4.5s\n",
    "t0 = time.time()\n",
    "for i in range(10):\n",
    "    hello_patient(i)\n",
    "print(f\"Took {(time.time() - t0):.3f} seconds\")"
   ]
  },
  {
   "cell_type": "markdown",
   "metadata": {},
   "source": [
    "Using `ratelim.patient` is kinder to the API you are using as you lower the risk of overwhelming the API and getting a batch of responses with bad statuses."
   ]
  },
  {
   "cell_type": "markdown",
   "metadata": {},
   "source": [
    "## Resources"
   ]
  },
  {
   "cell_type": "markdown",
   "metadata": {},
   "source": [
    "### Assorted API snippets"
   ]
  },
  {
   "cell_type": "code",
   "execution_count": null,
   "metadata": {},
   "outputs": [],
   "source": [
    "## COMPANIES HOUSE (UK registrar of companies)\n",
    "# Register for an api key here: https://developer.companieshouse.gov.uk/developer/signin\n",
    "\n",
    "api_key = 'put your api key here'\n",
    "url = 'https://api.companieshouse.gov.uk/search?q=consultio consultius'\n",
    "r = requests.get(url, auth=(api_key, ''))\n",
    "r.raise_for_status()\n",
    "\n",
    "r.json()['items'][0]  # get the first item"
   ]
  },
  {
   "cell_type": "raw",
   "metadata": {},
   "source": [
    "# Example output\n",
    "{'title': 'CONSULTIO CONSULTIUS CONSULTING  LIMITED',\n",
    " 'snippet': '',\n",
    " 'address': {'country': 'United Kingdom',\n",
    "  'region': 'Uk',\n",
    "  'address_line_1': 'Gibbons Close',\n",
    "  'postal_code': 'GU47 9BB',\n",
    "  'address_line_2': 'Sandhurst',\n",
    "  'premises': '3 ',\n",
    "  'locality': 'Berkshire'},\n",
    " 'date_of_cessation': '2016-11-22',\n",
    " 'date_of_creation': '2016-03-29',\n",
    " 'kind': 'searchresults#company',\n",
    " 'matches': {'title': [1, 9, 11, 20], 'snippet': []},\n",
    " 'description': '10088276 - Dissolved on 22 November 2016',\n",
    " 'company_type': 'ltd',\n",
    " 'description_identifier': ['dissolved-on'],\n",
    " 'company_number': '10088276',\n",
    " 'company_status': 'dissolved',\n",
    " 'links': {'self': '/company/10088276'},\n",
    " 'address_snippet': '3  Gibbons Close, Sandhurst, Berkshire, Uk, United Kingdom, GU47 9BB'}"
   ]
  },
  {
   "cell_type": "code",
   "execution_count": null,
   "metadata": {},
   "outputs": [],
   "source": [
    "## REDDIT - https://www.reddit.com/dev/api/#GET_subreddits_search\n",
    "# Let's find some subreddits to learn python with!\n",
    "# https://www.reddit.com/dev/api/#GET_subreddits_search\n",
    "\n",
    "url = 'https://www.reddit.com/subreddits/search.json?q=\"learn python&limit=5\"'\n",
    "r = requests.get(url)\n",
    "r.raise_for_status()\n",
    "\n",
    "[result['data']['display_name_prefixed']\n",
    " for result in r.json()['data']['children']]"
   ]
  },
  {
   "cell_type": "markdown",
   "metadata": {},
   "source": [
    "### List of API's\n",
    "\n",
    "Massive list [**here**](https://github.com/public-apis/public-apis)\n"
   ]
  },
  {
   "cell_type": "markdown",
   "metadata": {},
   "source": [
    "### API wrapper libraries\n",
    "\n",
    "Massive list [**here**](https://github.com/realpython/list-of-python-api-wrappers).\n",
    "\n",
    "For example, geo-code location data with [`geopy`](https://github.com/geopy/geopy) :"
   ]
  },
  {
   "cell_type": "code",
   "execution_count": null,
   "metadata": {},
   "outputs": [],
   "source": [
    "from geopy.geocoders import Nominatim\n",
    "geolocator = Nominatim(user_agent=\"ysi_tutorial\")\n",
    "\n",
    "print(geolocator.geocode(\"Leuvenlaan 4\"))  # From address\n",
    "print(geolocator.reverse(\"52.086779,5.1674726\"))  # From co-ordinates"
   ]
  },
  {
   "cell_type": "markdown",
   "metadata": {},
   "source": [
    "### More detailed tutorials\n",
    "\n",
    "* Python - https://www.reddit.com/r/learnpython/wiki/index\n",
    "\n",
    "  This wiki gives a lot of different resources for people both new to programming, or just new to python.\n",
    "* Pandas - https://pandas.pydata.org/pandas-docs/stable/getting_started/tutorials.html\n",
    "    \n",
    "* Requests/API's\n",
    "    * https://realpython.com/python-requests/\n",
    "    * https://www.dataquest.io/blog/python-api-tutorial/"
   ]
  }
 ],
 "metadata": {
  "hide_input": false,
  "kernelspec": {
   "display_name": "Python 3",
   "language": "python",
   "name": "python3"
  },
  "language_info": {
   "codemirror_mode": {
    "name": "ipython",
    "version": 3
   },
   "file_extension": ".py",
   "mimetype": "text/x-python",
   "name": "python",
   "nbconvert_exporter": "python",
   "pygments_lexer": "ipython3",
   "version": "3.7.3"
  },
  "toc": {
   "base_numbering": 1,
   "nav_menu": {},
   "number_sections": true,
   "sideBar": true,
   "skip_h1_title": false,
   "title_cell": "Table of Contents",
   "title_sidebar": "Contents",
   "toc_cell": false,
   "toc_position": {},
   "toc_section_display": true,
   "toc_window_display": false
  },
  "varInspector": {
   "cols": {
    "lenName": 16,
    "lenType": 16,
    "lenVar": 40
   },
   "kernels_config": {
    "python": {
     "delete_cmd_postfix": "",
     "delete_cmd_prefix": "del ",
     "library": "var_list.py",
     "varRefreshCmd": "print(var_dic_list())"
    },
    "r": {
     "delete_cmd_postfix": ") ",
     "delete_cmd_prefix": "rm(",
     "library": "var_list.r",
     "varRefreshCmd": "cat(var_dic_list()) "
    }
   },
   "types_to_exclude": [
    "module",
    "function",
    "builtin_function_or_method",
    "instance",
    "_Feature"
   ],
   "window_display": false
  }
 },
 "nbformat": 4,
 "nbformat_minor": 2
}

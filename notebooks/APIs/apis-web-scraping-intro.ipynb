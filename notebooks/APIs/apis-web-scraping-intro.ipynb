{
 "cells": [
  {
   "cell_type": "markdown",
   "metadata": {
    "slideshow": {
     "slide_type": "slide"
    }
   },
   "source": [
    "# Demystifying APIs and Web scraping"
   ]
  },
  {
   "cell_type": "markdown",
   "metadata": {
    "slideshow": {
     "slide_type": "slide"
    }
   },
   "source": [
    "## Getting data\n",
    "\n",
    "There are many ways to get data:  \n",
    "\n",
    "### Data dumps\n",
    "\n",
    "We download a file (from the web, USB stick etc.)\n",
    " \n",
    " \n",
    "\n",
    "### Databases\n",
    "\n",
    "We write a SQL query. e.g.\n",
    "\n",
    "```\n",
    "SELECT Name, Number_Of_Hands FROM Characters WHERE\n",
    "Name LIKE '%Skywalker%';\n",
    "```\n",
    "Result:\n",
    "``` \n",
    "| Name             | Number_Of_Hands   |\n",
    "|------------------+-------------------|\n",
    "| Luke Skywalker   |                 1 |\n",
    "| Anakin Skywalker |                 1 |\n",
    "| Leia Skywalker   |                 2 |\n",
    "| Shmi Skywalker   |                 2 |\n",
    "```\n",
    "\n",
    "### **API's** - \"Application Programming Interface\"\n",
    "\n",
    "![image.png](figures/dog_ceo.png)\n",
    "\n",
    "![alt](figures/collie.png)\n",
    "\n",
    "[Tutorial:](https://colab.research.google.com/github/nestauk/im-tutorials/blob/apis-web-scraping/notebooks/APIs/API_tutorial.ipynb)\n",
    "http://tiny.cc/hackstir-api\n",
    "\n",
    "### **Web scraping**\n",
    "\n",
    "![](figures/webscraping.jpg)\n",
    "\n",
    "[Tutorial:](https://colab.research.google.com/github/nestauk/im-tutorials/blob/apis-web-scraping/notebooks/Web-Scraping/Web%20Scraping%20Tutorial.ipynb)\n",
    "http://tiny.cc/hackstir-scrape"
   ]
  }
 ],
 "metadata": {
  "hide_input": false,
  "kernelspec": {
   "display_name": "Python 3",
   "language": "python",
   "name": "python3"
  },
  "language_info": {
   "codemirror_mode": {
    "name": "ipython",
    "version": 3
   },
   "file_extension": ".py",
   "mimetype": "text/x-python",
   "name": "python",
   "nbconvert_exporter": "python",
   "pygments_lexer": "ipython3",
   "version": "3.6.5"
  },
  "nav_menu": {},
  "toc": {
   "base_numbering": 1,
   "nav_menu": {},
   "number_sections": true,
   "sideBar": true,
   "skip_h1_title": false,
   "title_cell": "Table of Contents",
   "title_sidebar": "Contents",
   "toc_cell": false,
   "toc_position": {},
   "toc_section_display": "block",
   "toc_window_display": false
  },
  "varInspector": {
   "cols": {
    "lenName": 16,
    "lenType": 16,
    "lenVar": 40
   },
   "kernels_config": {
    "python": {
     "delete_cmd_postfix": "",
     "delete_cmd_prefix": "del ",
     "library": "var_list.py",
     "varRefreshCmd": "print(var_dic_list())"
    },
    "r": {
     "delete_cmd_postfix": ") ",
     "delete_cmd_prefix": "rm(",
     "library": "var_list.r",
     "varRefreshCmd": "cat(var_dic_list()) "
    }
   },
   "types_to_exclude": [
    "module",
    "function",
    "builtin_function_or_method",
    "instance",
    "_Feature"
   ],
   "window_display": false
  }
 },
 "nbformat": 4,
 "nbformat_minor": 2
}
